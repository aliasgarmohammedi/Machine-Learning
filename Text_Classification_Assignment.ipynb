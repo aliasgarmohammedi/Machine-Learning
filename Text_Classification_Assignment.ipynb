{
  "cells": [
    {
      "cell_type": "markdown",
      "metadata": {
        "id": "mDMgSstPYv0P"
      },
      "source": [
        "# Text Classification:\n",
        "\n",
        "## Data\n",
        "<pre>\n",
        "1. we have total of 20 types of documents(Text files) and total 18828 documents(text files).\n",
        "2. You can download data from this <a href='https://drive.google.com/open?id=1rxD15nyeIPIAZ-J2VYPrDRZI66-TBWvM'>link</a>, in that you will get documents.rar folder. <br>If you unzip that, you will get total of 18828 documnets. document name is defined as'ClassLabel_DocumentNumberInThatLabel'. \n",
        "so from document name, you can extract the label for that document.\n",
        "4. Now our problem is to classify all the documents into any one of the class.\n",
        "5. Below we provided count plot of all the labels in our data. \n",
        "</pre>"
      ]
    },
    {
      "cell_type": "code",
      "execution_count": null,
      "metadata": {
        "id": "64U9NzWFYv0V"
      },
      "outputs": [],
      "source": [
        "### count plot of all the class labels. "
      ]
    },
    {
      "cell_type": "markdown",
      "metadata": {
        "id": "2mK4TJOFYv0h"
      },
      "source": [
        "## Assignment:"
      ]
    },
    {
      "cell_type": "markdown",
      "metadata": {
        "id": "VlqYFVI3Yv0k"
      },
      "source": [
        "#### sample document\n",
        "<pre>\n",
        "<font color='blue'>\n",
        "Subject: A word of advice\n",
        "From: jcopelan@nyx.cs.du.edu (The One and Only)\n",
        "\n",
        "In article < 65882@mimsy.umd.edu > mangoe@cs.umd.edu (Charley Wingate) writes:\n",
        ">\n",
        ">I've said 100 times that there is no \"alternative\" that should think you\n",
        ">might have caught on by now.  And there is no \"alternative\", but the point\n",
        ">is, \"rationality\" isn't an alternative either.  The problems of metaphysical\n",
        ">and religious knowledge are unsolvable-- or I should say, humans cannot\n",
        ">solve them.\n",
        "\n",
        "How does that saying go: Those who say it can't be done shouldn't interrupt\n",
        "those who are doing it.\n",
        "\n",
        "Jim\n",
        "--\n",
        "Have you washed your brain today?\n",
        "</font>\n",
        "</pre>"
      ]
    },
    {
      "cell_type": "markdown",
      "metadata": {
        "id": "KAR5HoR1Yv0m"
      },
      "source": [
        "### Preprocessing:\n",
        "<pre>\n",
        "useful links: <a href='http://www.pyregex.com/'>http://www.pyregex.com/</a>\n",
        "\n",
        "<font color='blue'><b>1.</b></font> Find all emails in the document and then get the text after the \"@\". and then split those texts by '.' \n",
        "after that remove the words whose length is less than or equal to 2 and also remove'com' word and then combine those words by space. \n",
        "In one doc, if we have 2 or more mails, get all.\n",
        "<b>Eg:[test@dm1.d.com, test2@dm2.dm3.com]-->[dm1.d.com, dm3.dm4.com]-->[dm1,d,com,dm2,dm3,com]-->[dm1,dm2,dm3]-->\"dm1 dm2 dm3\" </b> \n",
        "append all those into one list/array. ( This will give length of 18828 sentences i.e one list for each of the document). \n",
        "Some sample output was shown below. \n",
        "\n",
        "> In the above sample document there are emails [jcopelan@nyx.cs.du.edu, 65882@mimsy.umd.edu, mangoe@cs.umd.edu]\n",
        "\n",
        "preprocessing:\n",
        "[jcopelan@nyx.cs.du.edu, 65882@mimsy.umd.edu, mangoe@cs.umd.edu] ==> [nyx cs du edu mimsy umd edu cs umd edu] ==> \n",
        "[nyx edu mimsy umd edu umd edu]\n",
        "\n",
        "<font color='blue'><b>2.</b></font> Replace all the emails by space in the original text. \n",
        "</pre>"
      ]
    },
    {
      "cell_type": "code",
      "execution_count": null,
      "metadata": {
        "id": "KavKDD9FYv0p"
      },
      "outputs": [],
      "source": [
        "# we have collected all emails and preprocessed them, this is sample output\n",
        "preprocessed_email"
      ]
    },
    {
      "cell_type": "code",
      "execution_count": null,
      "metadata": {
        "id": "obReqs55Yv0v"
      },
      "outputs": [],
      "source": [
        "len(preprocessed_email)"
      ]
    },
    {
      "cell_type": "markdown",
      "metadata": {
        "id": "zIovFDQzYv03"
      },
      "source": [
        "<pre>\n",
        "<font color='blue'><b>3.</b></font> Get subject of the text i.e. get the total lines where \"Subject:\" occur and remove \n",
        "the word which are before the \":\" remove the newlines, tabs, punctuations, any special chars.\n",
        "<b>Eg: if we have sentance like \"Subject: Re: Gospel Dating @ \\r\\r\\n\" --> You have to get \"Gospel Dating\"</b> \n",
        "Save all this data into another list/array. \n",
        "\n",
        "<font color='blue'><b>4.</b></font> After you store it in the list, Replace those sentances in original text by space.\n",
        "\n",
        "<font color='blue'><b>5.</b></font> Delete all the sentances where sentence starts with <b>\"Write to:\"</b> or <b>\"From:\"</b>.\n",
        "> In the above sample document check the 2nd line, we should remove that\n",
        "\n",
        "<font color='blue'><b>6.</b></font> Delete all the tags like \"< anyword >\"\n",
        "> In the above sample document check the 4nd line, we should remove that \"< 65882@mimsy.umd.edu >\"\n",
        "\n",
        "\n",
        "<font color='blue'><b>7.</b></font> Delete all the data which are present in the brackets. \n",
        "In many text data, we observed that, they maintained the explanation of sentence \n",
        "or translation of sentence to another language in brackets so remove all those.\n",
        "<b>Eg: \"AAIC-The course that gets you HIRED(AAIC - Der Kurs, der Sie anstellt)\" --> \"AAIC-The course that gets you HIRED\"</b>\n",
        "\n",
        "> In the above sample document check the 4nd line, we should remove that \"(Charley Wingate)\"\n",
        "\n",
        "\n",
        "<font color='blue'><b>8.</b></font> Remove all the newlines('\\n'), tabs('\\t'), \"-\", \"\\\".\n",
        "\n",
        "<font color='blue'><b>9.</b></font> Remove all the words which ends with <b>\":\"</b>.\n",
        "<b>Eg: \"Anyword:\"</b>\n",
        "> In the above sample document check the 4nd line, we should remove that \"writes:\"\n",
        "\n",
        "\n",
        "<font color='blue'><b>10.</b></font> Decontractions, replace words like below to full words. \n",
        "please check the donors choose preprocessing for this \n",
        "<b>Eg: can't -> can not, 's -> is, i've -> i have, i'm -> i am, you're -> you are, i'll --> i will </b>\n",
        "\n",
        "<b> There is no order to do point 6 to 10. but you have to get final output correctly</b>\n",
        "\n",
        "<font color='blue'><b>11.</b></font> Do chunking on the text you have after above preprocessing. \n",
        "Text chunking, also referred to as shallow parsing, is a task that \n",
        "follows Part-Of-Speech Tagging and that adds more structure to the sentence.\n",
        "So it combines the some phrases, named entities into single word.\n",
        "So after that combine all those phrases/named entities by separating <b>\"_\"</b>. \n",
        "And remove the phrases/named entities if that is a \"Person\". \n",
        "You can use <b>nltk.ne_chunk</b> to get these. \n",
        "Below we have given one example. please go through it. \n",
        "\n",
        "useful links: \n",
        "<a href='https://www.nltk.org/book/ch07.html'>https://www.nltk.org/book/ch07.html</a>\n",
        "<a href='https://stackoverflow.com/a/31837224/4084039'>https://stackoverflow.com/a/31837224/4084039</a>\n",
        "<a href='http://www.nltk.org/howto/tree.html'>http://www.nltk.org/howto/tree.html</a>\n",
        "<a href='https://stackoverflow.com/a/44294377/4084039'>https://stackoverflow.com/a/44294377/4084039</a>\n",
        "</pre>"
      ]
    },
    {
      "cell_type": "code",
      "execution_count": null,
      "metadata": {
        "id": "2lAaKQ6EYv04"
      },
      "outputs": [],
      "source": [
        "#i am living in the New York\n",
        "print(\"i am living in the New York -->\", list(chunks))\n",
        "print(\" \")\n",
        "print(\"-\"*50)\n",
        "print(\" \")\n",
        "#My name is Srikanth Varma\n",
        "print(\"My name is Srikanth Varma -->\", list(chunks1))"
      ]
    },
    {
      "cell_type": "markdown",
      "metadata": {
        "id": "XV8gzLUjYv0-"
      },
      "source": [
        "<pre>We did chunking for above two lines and then We got one list where each word is mapped to a \n",
        "POS(parts of speech) and also if you see \"New York\" and \"Srikanth Varma\", \n",
        "they got combined and represented as a tree and \"New York\" was referred as \"GPE\" and \"Srikanth Varma\" was referred as \"PERSON\". \n",
        "so now you have to Combine the \"New York\" with <b>\"_\"</b> i.e \"New_York\"\n",
        "and remove the \"Srikanth Varma\" from the above sentence because it is a person.</pre>"
      ]
    },
    {
      "cell_type": "markdown",
      "metadata": {
        "id": "VpaC-KF3Yv1A"
      },
      "source": [
        "<pre>\n",
        "<font color='blue'><b>13.</b></font> Replace all the digits with space i.e delete all the digits. \n",
        "> In the above sample document, the 6th line have digit 100, so we have to remove that.\n",
        "\n",
        "<font color='blue'><b>14.</b></font> After doing above points, we observed there might be few word's like\n",
        " <b> \"_word_\" (i.e starting and ending with the _), \"_word\" (i.e starting with the _),\n",
        "  \"word_\" (i.e ending with the _)</b> remove the <b>_</b> from these type of words. \n",
        "\n",
        "<font color='blue'><b>15.</b></font>  We also observed some words like <b> \"OneLetter_word\"- eg: d_berlin, \n",
        "\"TwoLetters_word\" - eg: dr_berlin </b>, in these words we remove the \"OneLetter_\" (d_berlin ==> berlin) and \n",
        "\"TwoLetters_\" (de_berlin ==> berlin). i.e remove the words \n",
        "which are length less than or equal to 2 after spliiting those words by \"_\". \n",
        "\n",
        "<font color='blue'><b>16.</b></font> Convert all the words into lower case and lowe case \n",
        "and remove the words which are greater than or equal to 15 or less than or equal to 2.\n",
        "\n",
        "<font color='blue'><b>17.</b></font> replace all the words except \"A-Za-z_\" with space. \n",
        "\n",
        "<font color='blue'><b>18.</b></font> Now You got Preprocessed Text, email, subject. create a dataframe with those. \n",
        "Below are the columns of the df. \n",
        "</pre>"
      ]
    },
    {
      "cell_type": "code",
      "execution_count": null,
      "metadata": {
        "id": "hB43OGEfYv1C"
      },
      "outputs": [],
      "source": [
        "data.columns"
      ]
    },
    {
      "cell_type": "code",
      "execution_count": null,
      "metadata": {
        "id": "AM6A19xFYv1I"
      },
      "outputs": [],
      "source": [
        "data.iloc[400]"
      ]
    },
    {
      "cell_type": "markdown",
      "metadata": {
        "id": "rfWUeIN1Yv1N"
      },
      "source": [
        "### To get above mentioned data frame --> Try to Write Total Preprocessing steps in One Function Named Preprocess as below. "
      ]
    },
    {
      "cell_type": "code",
      "execution_count": null,
      "metadata": {
        "id": "uEGEHTNQYv1N"
      },
      "outputs": [],
      "source": [
        "def preprocess(Input_Text):\n",
        "    \"\"\"Do all the Preprocessing as shown above and\n",
        "    return a tuple contain preprocess_email,preprocess_subject,preprocess_text for that Text_data\"\"\"\n",
        "    return (list_of_preproessed_emails,subject,text)"
      ]
    },
    {
      "cell_type": "markdown",
      "metadata": {
        "id": "ceASjKizYv1U"
      },
      "source": [
        "### Code checking:\n",
        "\n",
        "<font color='red' size=4>\n",
        "After Writing preprocess function. call that functoin with the input text of 'alt.atheism_49960' doc and print the output of the preprocess function\n",
        "<br>\n",
        "This will help us to evaluate faster, based on the output we can suggest you if there are any changes.\n",
        "</font>"
      ]
    },
    {
      "cell_type": "markdown",
      "metadata": {
        "id": "2x3og_iaYv1S"
      },
      "source": [
        "### After writing Preprocess function, call the function for each of the document(18828 docs) and then create a dataframe as mentioned above."
      ]
    },
    {
      "cell_type": "markdown",
      "metadata": {
        "id": "n3ucJLtWYv1V"
      },
      "source": [
        "### Training The models to Classify: \n",
        "\n",
        "<pre>\n",
        "1. Combine \"preprocessed_text\", \"preprocessed_subject\", \"preprocessed_emails\" into one column. use that column to model. \n",
        "\n",
        "2. Now Split the data into Train and test. use 25% for test also do a stratify split. \n",
        "\n",
        "3. Analyze your text data and pad the sequnce if required. \n",
        "Sequnce length is not restricted, you can use anything of your choice. \n",
        "you need to give the reasoning\n",
        "\n",
        "4. Do Tokenizer i.e convert text into numbers. please be careful while doing it. \n",
        "if you are using tf.keras \"Tokenizer\" API, it removes the <b>\"_\"</b>, but we need that.\n",
        "\n",
        "5. code the model's ( Model-1, Model-2 ) as discussed below \n",
        "and try to optimize that models.  \n",
        "\n",
        "6. For every model use predefined Glove vectors. \n",
        "<b>Don't train any word vectors while Training the model.</b>\n",
        "\n",
        "7. Use \"categorical_crossentropy\" as Loss. \n",
        "\n",
        "8. Use <b>Accuracy and Micro Avgeraged F1 score</b> as your as Key metrics to evaluate your model. \n",
        "\n",
        "9.  Use Tensorboard to plot the loss and Metrics based on the epoches.\n",
        "\n",
        "10. Please save your best model weights in to <b>'best_model_L.h5' ( L = 1 or 2 )</b>. \n",
        "\n",
        "11. You are free to choose any Activation function, learning rate, optimizer.\n",
        "But have to use the same architecture which we are giving below.\n",
        "\n",
        "12. You can add some layer to our architecture but you <b>deletion</b> of layer is not acceptable.\n",
        "\n",
        "13. Try to use <b>Early Stopping</b> technique or any of the callback techniques that you did in the previous assignments.\n",
        "\n",
        "14. For Every model save your model to image ( Plot the model) with shapes \n",
        "and inlcude those images in the notebook markdown cell, \n",
        "upload those imgages to Classroom. You can use \"plot_model\" \n",
        "please refer <a href='https://www.tensorflow.org/api_docs/python/tf/keras/utils/plot_model'>this</a> if you don't know how to plot the model with shapes. \n",
        "\n",
        "</pre>"
      ]
    },
    {
      "cell_type": "markdown",
      "metadata": {
        "id": "c0mwdtcvYv1X"
      },
      "source": [
        "### Model-1: Using 1D convolutions with word embeddings"
      ]
    },
    {
      "cell_type": "markdown",
      "metadata": {
        "id": "gXPPsovJ3ePk"
      },
      "source": [
        "<pre>\n",
        "<b>Encoding of the Text </b> --> For a given text data create a Matrix with Embedding layer as shown Below. \n",
        "In the example we have considered d = 5, but in this assignment we will get d = dimension of Word vectors we are using.\n",
        " i.e if we have maximum of 350 words in a sentence and embedding of 300 dim word vector, \n",
        " we result in 350*300 dimensional matrix for each sentance as output after embedding layer\n",
        "<img src='https://i.imgur.com/kiVQuk1.png'>\n",
        "Ref: https://i.imgur.com/kiVQuk1.png\n",
        "\n",
        "<b>Reference:</b>\n",
        "<a href='https://stackoverflow.com/a/43399308/4084039'>https://stackoverflow.com/a/43399308/4084039</a>\n",
        "<a href='https://missinglink.ai/guides/keras/keras-conv1d-working-1d-convolutional-neural-networks-keras/'>https://missinglink.ai/guides/keras/keras-conv1d-working-1d-convolutional-neural-networks-keras/</a>\n",
        "\n",
        "<b><a href='https://stats.stackexchange.com/questions/270546/how-does-keras-embedding-layer-work'>How EMBEDDING LAYER WORKS </a></b>\n",
        "\n",
        "</pre>\n",
        "\n",
        "### Go through this blog, if you have any doubt on using predefined Embedding values in Embedding layer - https://machinelearningmastery.com/use-word-embedding-layers-deep-learning-keras/"
      ]
    },
    {
      "cell_type": "markdown",
      "metadata": {
        "id": "wGVQKge3Yv1e"
      },
      "source": [
        "<img src='https://i.imgur.com/fv1GvFJ.png'>\n",
        "ref: 'https://i.imgur.com/fv1GvFJ.png'"
      ]
    },
    {
      "cell_type": "markdown",
      "metadata": {
        "id": "GC6SBG5AYv1f"
      },
      "source": [
        "<pre>\n",
        "1. all are Conv1D layers with any number of filter and filter sizes, there is no restriction on this.\n",
        "\n",
        "2. use concatenate layer is to concatenate all the filters/channels. \n",
        "\n",
        "3. You can use any pool size and stride for maxpooling layer.\n",
        "\n",
        "4. Don't use more than 16 filters in one Conv layer becuase it will increase the no of params. \n",
        "( Only recommendation if you have less computing power )\n",
        "\n",
        "5. You can use any number of layers after the Flatten Layer.\n",
        "</pre>"
      ]
    },
    {
      "cell_type": "markdown",
      "metadata": {
        "id": "9cg4L1V4Yv1d"
      },
      "source": [
        "### Model-2 : Using 1D convolutions with character embedding"
      ]
    },
    {
      "cell_type": "markdown",
      "metadata": {
        "id": "2Djg4YVA3oQx"
      },
      "source": [
        "<pre>\n",
        "<pre><img src=\"https://i.ytimg.com/vi/CNY8VjJt-iQ/maxresdefault.jpg\" width=\"70%\">\n",
        "Here are the some papers based on Char-CNN\n",
        " 1. Xiang Zhang, Junbo Zhao, Yann LeCun. <a href=\"http://arxiv.org/abs/1509.01626\">Character-level Convolutional Networks for Text Classification</a>.NIPS 2015\n",
        " 2. Yoon Kim, Yacine Jernite, David Sontag, Alexander M. Rush. <a href=\"https://arxiv.org/abs/1508.06615\">Character-Aware Neural Language Models</a>. AAAI 2016\n",
        " 3. Shaojie Bai, J. Zico Kolter, Vladlen Koltun. <a href=\"https://arxiv.org/pdf/1803.01271.pdf\">An Empirical Evaluation of Generic Convolutional and Recurrent Networks for Sequence Modeling</a>\n",
        " 4. Use the pratrained char embeddings <a href='https://github.com/minimaxir/char-embeddings/blob/master/glove.840B.300d-char.txt'>https://github.com/minimaxir/char-embeddings/blob/master/glove.840B.300d-char.txt</a>\n",
        "</pre>"
      ]
    },
    {
      "cell_type": "markdown",
      "metadata": {
        "id": "VXvKSEIeSvN5"
      },
      "source": [
        "<img src='https://i.imgur.com/EuuoJtr.png'>"
      ]
    },
    {
      "cell_type": "code",
      "execution_count": 3,
      "metadata": {
        "id": "S2GLbk767G9v"
      },
      "outputs": [],
      "source": [
        "import warnings\n",
        "warnings.filterwarnings(\"ignore\")\n",
        "\n",
        "import pandas as pd\n",
        "import os\n",
        "import pickle\n",
        "import tensorflow as tf\n",
        "from tensorflow.keras.callbacks import EarlyStopping\n",
        "from numpy import array\n",
        "from numpy import asarray\n",
        "from numpy import zeros\n",
        "from tensorflow.keras.preprocessing.text import Tokenizer\n",
        "from tensorflow.keras.preprocessing.sequence import pad_sequences\n",
        "from tensorflow.keras.models import Sequential,Model\n",
        "from tensorflow.keras.layers import Dense,MaxPooling1D\n",
        "from tensorflow.keras.layers import Flatten,Dropout,concatenate,Input\n",
        "from tensorflow.keras.layers import Embedding\n",
        "import datetime\n",
        "import numpy as np\n",
        "from tensorflow.keras.layers import Conv1D\n",
        "from tensorflow.keras.callbacks import TensorBoard\n",
        "%reload_ext tensorboard\n",
        "import tensorflow as tf\n",
        "import itertools\n",
        "import re\n",
        "from sklearn.metrics import f1_score\n",
        "from sklearn.model_selection import train_test_split\n"
      ]
    },
    {
      "cell_type": "code",
      "execution_count": 5,
      "metadata": {
        "colab": {
          "base_uri": "https://localhost:8080/"
        },
        "id": "Y2mqYsgNE7n3",
        "outputId": "7903dce5-5560-4fc4-a955-03485a6dc68d"
      },
      "outputs": [
        {
          "output_type": "stream",
          "name": "stdout",
          "text": [
            "Downloading...\n",
            "From: https://drive.google.com/uc?id=1rxD15nyeIPIAZ-J2VYPrDRZI66-TBWvM\n",
            "To: /content/documents.rar\n",
            "100% 19.0M/19.0M [00:00<00:00, 70.9MB/s]\n"
          ]
        }
      ],
      "source": [
        "!gdown  https://drive.google.com/uc?id=1rxD15nyeIPIAZ-J2VYPrDRZI66-TBWvM \n",
        "\n",
        "get_ipython().system_raw(\"unrar x documents.rar\")"
      ]
    },
    {
      "cell_type": "markdown",
      "metadata": {
        "id": "O4JXf6MWGYat"
      },
      "source": [
        "Reference - https://stackoverflow.com/questions/50315989/how-to-extract-rar-files-inside-google-colab"
      ]
    },
    {
      "cell_type": "code",
      "execution_count": 6,
      "metadata": {
        "colab": {
          "base_uri": "https://localhost:8080/"
        },
        "id": "t59cSV19FDQ2",
        "outputId": "c72ff3d5-70b4-4815-ae90-6ae7728b24d2"
      },
      "outputs": [
        {
          "output_type": "execute_result",
          "data": {
            "text/plain": [
              "['.config', 'documents', 'documents.rar', 'sample_data']"
            ]
          },
          "metadata": {},
          "execution_count": 6
        }
      ],
      "source": [
        "os.listdir()"
      ]
    },
    {
      "cell_type": "code",
      "execution_count": 7,
      "metadata": {
        "id": "dIcXvVx17Jf6"
      },
      "outputs": [],
      "source": [
        "#loading documents \n",
        "documents = os.listdir('documents')"
      ]
    },
    {
      "cell_type": "code",
      "execution_count": 8,
      "metadata": {
        "id": "XhepbTDNFJIN",
        "colab": {
          "base_uri": "https://localhost:8080/"
        },
        "outputId": "b945c2e5-240e-47f7-afd8-00b7ba623c90"
      },
      "outputs": [
        {
          "output_type": "execute_result",
          "data": {
            "text/plain": [
              "18828"
            ]
          },
          "metadata": {},
          "execution_count": 8
        }
      ],
      "source": [
        "#No. of documents loaded\n",
        "len(documents)"
      ]
    },
    {
      "cell_type": "code",
      "execution_count": 9,
      "metadata": {
        "id": "jnrTUU1gGJF-",
        "colab": {
          "base_uri": "https://localhost:8080/",
          "height": 35
        },
        "outputId": "dd7de00d-2455-4a4d-e5e6-011ce1b87e39"
      },
      "outputs": [
        {
          "output_type": "execute_result",
          "data": {
            "text/plain": [
              "'talk.religion.misc_83725.txt'"
            ],
            "application/vnd.google.colaboratory.intrinsic+json": {
              "type": "string"
            }
          },
          "metadata": {},
          "execution_count": 9
        }
      ],
      "source": [
        "#checking loaded documents\n",
        "documents[78]"
      ]
    },
    {
      "cell_type": "code",
      "execution_count": 10,
      "metadata": {
        "id": "IcWZSYnbG1PV"
      },
      "outputs": [],
      "source": [
        "#Retrieveing text data from each document aand storing it \n",
        "data=[]\n",
        "\n",
        "# 'i' is document name (ex - 'comp.os.ms-windows.misc_9921.txt')\n",
        "for i in documents:\n",
        "  # reading text file using 'r'  and appending it to data list\n",
        "  with open('./documents/' + str(i),'r',encoding='utf8',errors='replace')as file:\n",
        "    fc=file.read()\n",
        "    data.append(fc)"
      ]
    },
    {
      "cell_type": "code",
      "execution_count": 11,
      "metadata": {
        "id": "OK8G05DfHedF",
        "colab": {
          "base_uri": "https://localhost:8080/",
          "height": 139
        },
        "outputId": "4be25746-ff57-445c-ef99-19da203e07d4"
      },
      "outputs": [
        {
          "output_type": "execute_result",
          "data": {
            "text/plain": [
              "\"From: steveg@cadkey.com (Steve Gallichio)\\nSubject: Re: Tie Breaker....(Isles and Devils)\\n\\n\\n\\nRex Wang (wangr@vccsouth22.its.rpi.edu) spews forth stupidly:\\n> \\tAre people here stupid or what??? It is a tie breaker, of cause they\\n> have to have the same record. How can people be sooooo stuppid to put win as\\n> first in the list for tie breaker??? If it is a tie breaker, how can there be\\n> different record???? Man, I thought people in this net are good with hockey.\\n> I might not be great in Math, but tell me how can two teams ahve the same\\n> points with different record??? Man...retard!!!!!! Can't believe people\\n> actually put win as first in a tie breaker......\\n\\nPLEASE PLEASE PLEASE tell me that you don't actually ATTEND Rensselaer, and\\nthat you just work for ITS. Or that this was tounge-in-cheek.\\n\\nDoes this mean that I should be cutting off my alumni contributions, or \\nincreasing them?\\n\\n-SG\\n\""
            ],
            "application/vnd.google.colaboratory.intrinsic+json": {
              "type": "string"
            }
          },
          "metadata": {},
          "execution_count": 11
        }
      ],
      "source": [
        "# checking loaded text data\n",
        "data[1]"
      ]
    },
    {
      "cell_type": "code",
      "execution_count": 12,
      "metadata": {
        "id": "c-HA6E1zI2Md",
        "colab": {
          "base_uri": "https://localhost:8080/"
        },
        "outputId": "f2a21b33-3a27-4619-af3c-56fc2e8e96ad"
      },
      "outputs": [
        {
          "output_type": "stream",
          "name": "stdout",
          "text": [
            "18828\n"
          ]
        }
      ],
      "source": [
        "print(len(data))"
      ]
    },
    {
      "cell_type": "code",
      "execution_count": 13,
      "metadata": {
        "id": "JlwcfZMEJGHL"
      },
      "outputs": [],
      "source": [
        "#getting class labels for each document\n",
        "labels=[]\n",
        "\n",
        "for i in documents:\n",
        "  label=i.split('_')\n",
        "  labels.append(label[0])"
      ]
    },
    {
      "cell_type": "code",
      "execution_count": 14,
      "metadata": {
        "id": "OycahywpLS_E",
        "colab": {
          "base_uri": "https://localhost:8080/",
          "height": 35
        },
        "outputId": "203b00b6-4ef9-4755-a223-052bc1c6cb5e"
      },
      "outputs": [
        {
          "output_type": "execute_result",
          "data": {
            "text/plain": [
              "'rec.sport.hockey'"
            ],
            "application/vnd.google.colaboratory.intrinsic+json": {
              "type": "string"
            }
          },
          "metadata": {},
          "execution_count": 14
        }
      ],
      "source": [
        "#checking extracted class label\n",
        "labels[1]"
      ]
    },
    {
      "cell_type": "code",
      "execution_count": 15,
      "metadata": {
        "id": "tvj-wKBDLbXl",
        "colab": {
          "base_uri": "https://localhost:8080/"
        },
        "outputId": "0c32f12f-1865-4a00-a455-d6a279705bcd"
      },
      "outputs": [
        {
          "output_type": "execute_result",
          "data": {
            "text/plain": [
              "20"
            ]
          },
          "metadata": {},
          "execution_count": 15
        }
      ],
      "source": [
        "#using set function to remove dupliacte labels stored in list\n",
        "final_labels=set(labels)\n",
        "len(final_labels)\n"
      ]
    },
    {
      "cell_type": "code",
      "execution_count": 16,
      "metadata": {
        "id": "6b5yeBtHMBk2",
        "colab": {
          "base_uri": "https://localhost:8080/"
        },
        "outputId": "a876ed2e-e3c3-4786-b20e-dc35c609f27a"
      },
      "outputs": [
        {
          "output_type": "execute_result",
          "data": {
            "text/plain": [
              "{'alt.atheism',\n",
              " 'comp.graphics',\n",
              " 'comp.os.ms-windows.misc',\n",
              " 'comp.sys.ibm.pc.hardware',\n",
              " 'comp.sys.mac.hardware',\n",
              " 'comp.windows.x',\n",
              " 'misc.forsale',\n",
              " 'rec.autos',\n",
              " 'rec.motorcycles',\n",
              " 'rec.sport.baseball',\n",
              " 'rec.sport.hockey',\n",
              " 'sci.crypt',\n",
              " 'sci.electronics',\n",
              " 'sci.med',\n",
              " 'sci.space',\n",
              " 'soc.religion.christian',\n",
              " 'talk.politics.guns',\n",
              " 'talk.politics.mideast',\n",
              " 'talk.politics.misc',\n",
              " 'talk.religion.misc'}"
            ]
          },
          "metadata": {},
          "execution_count": 16
        }
      ],
      "source": [
        "#listing all 20 class labels\n",
        "final_labels"
      ]
    },
    {
      "cell_type": "code",
      "execution_count": 17,
      "metadata": {
        "id": "hfLBPAorMOq9"
      },
      "outputs": [],
      "source": [
        "list_of_emails=[] # conatins emails stored in each document(list of lists)\n",
        "data_without_mail=[] # conatins text data without email ids\n",
        "for text in data:\n",
        "  #finding email pattern in text\n",
        "  email = re.findall(r'[\\w\\.-]+@[\\w\\.-]+', text)\n",
        "  for i in email:\n",
        "    text = text.replace(i,\" \")\n",
        "  data_without_mail.append(text)\n",
        "  list_of_emails.append(email)\n",
        "\n",
        "l1=[]\n",
        "for emails in list_of_emails:\n",
        "  l2=[]\n",
        "  for each_email in emails:\n",
        "    for j in range(len(each_email)):\n",
        "      if(each_email[j]=='@'):\n",
        "        text=each_email[j+1:].split('.')\n",
        "        l2.append(text)\n",
        "  l1.append(l2)\n",
        "\n",
        "l3=[]\n",
        "for each_doc_email_list in l1:\n",
        "  l2=[]\n",
        "  for each_email in each_doc_email_list:\n",
        "    for word in each_email:\n",
        "      if((len(word)>2) & (word!='com')):\n",
        "        l2.append(word)\n",
        "  l3.append(l2)\n",
        "\n",
        "preprocessed_email=[]\n",
        "for i in l3:\n",
        "  s=\"\" #blank string\n",
        "  s=\" \".join(i) #joining using spaces\n",
        "  preprocessed_email.append(s)\n",
        "\n"
      ]
    },
    {
      "cell_type": "code",
      "execution_count": 18,
      "metadata": {
        "id": "QOR7fcOhSjri",
        "colab": {
          "base_uri": "https://localhost:8080/",
          "height": 35
        },
        "outputId": "ae64fab9-1431-4a24-a3bd-ecdabd8c6394"
      },
      "outputs": [
        {
          "output_type": "execute_result",
          "data": {
            "text/plain": [
              "'alexia lis uiuc edu cnsvax uwec edu cnsvax uwec edu alexia lis uiuc edu cnsvax uwec edu alexia lis uiuc edu'"
            ],
            "application/vnd.google.colaboratory.intrinsic+json": {
              "type": "string"
            }
          },
          "metadata": {},
          "execution_count": 18
        }
      ],
      "source": [
        "preprocessed_email[70]"
      ]
    },
    {
      "cell_type": "code",
      "execution_count": 19,
      "metadata": {
        "id": "yaRtnonSE-b9"
      },
      "outputs": [],
      "source": [
        "#Removing subject\n",
        "subject=[]\n",
        "data_without_sub=[]\n",
        "\n",
        "for i in data_without_mail:\n",
        "  sub=re.findall('Subject:.*',i)\n",
        "  subject.append(sub)\n",
        "  \n",
        "  for j in sub:\n",
        "    i=i.replace(str(j),\" \")\n",
        "  data_without_sub.append(i)"
      ]
    },
    {
      "cell_type": "code",
      "execution_count": 20,
      "metadata": {
        "id": "5xhUlfVVJZNE"
      },
      "outputs": [],
      "source": [
        "#Removing pucntuation\n",
        "preprocessed_subject=[]\n",
        "\n",
        "for i in subject:\n",
        "  for word in i:\n",
        "    word=word.replace(\"Subject: \",'')\n",
        "    word=word.replace(\"Re: \",'')\n",
        "    word=re.sub(r'[^a-zA-Z0-9 ]',r'',word)\n",
        "  preprocessed_subject.append(word)\n"
      ]
    },
    {
      "cell_type": "markdown",
      "metadata": {
        "id": "uLOC3PtvJug7"
      },
      "source": [
        "Reference - https://stackoverflow.com/questions/5843518/remove-all-special-characters-punctuation-and-spaces-from-string"
      ]
    },
    {
      "cell_type": "code",
      "execution_count": 21,
      "metadata": {
        "id": "xQ-SbVAnKooz",
        "colab": {
          "base_uri": "https://localhost:8080/",
          "height": 122
        },
        "outputId": "814ae966-0514-4995-fdd7-18be1e8ca185"
      },
      "outputs": [
        {
          "output_type": "execute_result",
          "data": {
            "text/plain": [
              "\"From:   (Steve Gallichio)\\n \\n\\n\\n\\nRex Wang ( ) spews forth stupidly:\\n> \\tAre people here stupid or what??? It is a tie breaker, of cause they\\n> have to have the same record. How can people be sooooo stuppid to put win as\\n> first in the list for tie breaker??? If it is a tie breaker, how can there be\\n> different record???? Man, I thought people in this net are good with hockey.\\n> I might not be great in Math, but tell me how can two teams ahve the same\\n> points with different record??? Man...retard!!!!!! Can't believe people\\n> actually put win as first in a tie breaker......\\n\\nPLEASE PLEASE PLEASE tell me that you don't actually ATTEND Rensselaer, and\\nthat you just work for ITS. Or that this was tounge-in-cheek.\\n\\nDoes this mean that I should be cutting off my alumni contributions, or \\nincreasing them?\\n\\n-SG\\n\""
            ],
            "application/vnd.google.colaboratory.intrinsic+json": {
              "type": "string"
            }
          },
          "metadata": {},
          "execution_count": 21
        }
      ],
      "source": [
        "data_without_sub[1]"
      ]
    },
    {
      "cell_type": "code",
      "execution_count": 22,
      "metadata": {
        "id": "k3UxQl1HLDRh"
      },
      "outputs": [],
      "source": [
        "data_without_write_from=[]\n",
        "\n",
        "for line in data_without_sub:\n",
        "  f=re.findall(\"Write to:.*\",line)\n",
        "  for j in f:\n",
        "    line=line.replace(str(j),'')\n",
        "  f=re.findall(\"From:.*\",line)\n",
        "  for j in f:\n",
        "    line=line.replace(str(j),'')\n",
        "  data_without_write_from.append(line)"
      ]
    },
    {
      "cell_type": "code",
      "execution_count": 23,
      "metadata": {
        "id": "TKE_7h6ZOtRT",
        "colab": {
          "base_uri": "https://localhost:8080/",
          "height": 122
        },
        "outputId": "74ed6502-c415-4b7d-d316-9059099e4e4d"
      },
      "outputs": [
        {
          "output_type": "execute_result",
          "data": {
            "text/plain": [
              "\"\\n \\n\\n\\n\\nRex Wang ( ) spews forth stupidly:\\n> \\tAre people here stupid or what??? It is a tie breaker, of cause they\\n> have to have the same record. How can people be sooooo stuppid to put win as\\n> first in the list for tie breaker??? If it is a tie breaker, how can there be\\n> different record???? Man, I thought people in this net are good with hockey.\\n> I might not be great in Math, but tell me how can two teams ahve the same\\n> points with different record??? Man...retard!!!!!! Can't believe people\\n> actually put win as first in a tie breaker......\\n\\nPLEASE PLEASE PLEASE tell me that you don't actually ATTEND Rensselaer, and\\nthat you just work for ITS. Or that this was tounge-in-cheek.\\n\\nDoes this mean that I should be cutting off my alumni contributions, or \\nincreasing them?\\n\\n-SG\\n\""
            ],
            "application/vnd.google.colaboratory.intrinsic+json": {
              "type": "string"
            }
          },
          "metadata": {},
          "execution_count": 23
        }
      ],
      "source": [
        "data_without_write_from[1]"
      ]
    },
    {
      "cell_type": "code",
      "execution_count": 24,
      "metadata": {
        "id": "fxa1EUPdO43S"
      },
      "outputs": [],
      "source": [
        "# Remove html tags\n",
        "data_without_tag=[]\n",
        "for i in data_without_write_from:\n",
        "  s=re.findall('<.*?>',i)\n",
        "  for j in s:\n",
        "    i=i.replace(str(j),'')\n",
        "\n",
        "  s=re.findall('\\(.*\\)',i)\n",
        "  for j in s:\n",
        "    i=i.replace(str(j),'')\n",
        "\n",
        "  s=re.findall('\\t',i)\n",
        "  for j in s:\n",
        "    i=i.replace(str(j),'')\n",
        "\n",
        "  s=re.findall('\\n',i)\n",
        "  for j in s:\n",
        "    i=i.replace(str(j),'')\n",
        "\n",
        "  i = re.sub(r'[>|?|\\|.|-]',r'',i)\n",
        "  i = re.sub(r'[=|!|<]',r'',i)\n",
        "  data_without_tag.append(i)"
      ]
    },
    {
      "cell_type": "markdown",
      "metadata": {
        "id": "aHaaanTsO5L6"
      },
      "source": [
        "Reference- https://stackoverflow.com/questions/9662346/python-code-to-remove-html-tags-from-a-string"
      ]
    },
    {
      "cell_type": "code",
      "execution_count": 25,
      "metadata": {
        "id": "fSkD2M0ePWOk",
        "colab": {
          "base_uri": "https://localhost:8080/",
          "height": 104
        },
        "outputId": "a6d78a4c-00ec-442a-f270-7b05ea2db2de"
      },
      "outputs": [
        {
          "output_type": "execute_result",
          "data": {
            "text/plain": [
              "\" Rex Wang  spews forth stupidly: Are people here stupid or what It is a tie breaker, of cause they have to have the same record How can people be sooooo stuppid to put win as first in the list for tie breaker If it is a tie breaker, how can there be different record Man, I thought people in this net are good with hockey I might not be great in Math, but tell me how can two teams ahve the same points with different record Manretard Can't believe people actually put win as first in a tie breakerPLEASE PLEASE PLEASE tell me that you don't actually ATTEND Rensselaer, andthat you just work for ITS Or that this was toungeincheekDoes this mean that I should be cutting off my alumni contributions, or increasing themSG\""
            ],
            "application/vnd.google.colaboratory.intrinsic+json": {
              "type": "string"
            }
          },
          "metadata": {},
          "execution_count": 25
        }
      ],
      "source": [
        "data_without_tag[1]\n"
      ]
    },
    {
      "cell_type": "code",
      "execution_count": 26,
      "metadata": {
        "id": "_PTpNDaWQeJa"
      },
      "outputs": [],
      "source": [
        "data_without_colon=[]\n",
        "\n",
        "for i in data_without_tag:\n",
        "  for j in i.split():\n",
        "    if(j[-1]==':'):\n",
        "      i=i.replace(str(j),'')\n",
        "  data_without_colon.append(i)\n"
      ]
    },
    {
      "cell_type": "code",
      "execution_count": 27,
      "metadata": {
        "id": "NdKqR6JSQvaI",
        "colab": {
          "base_uri": "https://localhost:8080/",
          "height": 104
        },
        "outputId": "cb1e3dac-d732-44f9-b3b5-5c6b89960593"
      },
      "outputs": [
        {
          "output_type": "execute_result",
          "data": {
            "text/plain": [
              "\" Rex Wang  spews forth  Are people here stupid or what It is a tie breaker, of cause they have to have the same record How can people be sooooo stuppid to put win as first in the list for tie breaker If it is a tie breaker, how can there be different record Man, I thought people in this net are good with hockey I might not be great in Math, but tell me how can two teams ahve the same points with different record Manretard Can't believe people actually put win as first in a tie breakerPLEASE PLEASE PLEASE tell me that you don't actually ATTEND Rensselaer, andthat you just work for ITS Or that this was toungeincheekDoes this mean that I should be cutting off my alumni contributions, or increasing themSG\""
            ],
            "application/vnd.google.colaboratory.intrinsic+json": {
              "type": "string"
            }
          },
          "metadata": {},
          "execution_count": 27
        }
      ],
      "source": [
        "data_without_colon[1]"
      ]
    },
    {
      "cell_type": "code",
      "execution_count": 28,
      "metadata": {
        "id": "rxKh0bhMR3kt"
      },
      "outputs": [],
      "source": [
        "data_without_contractions=[]\n",
        "for phrase in data_without_colon:\n",
        "  phrase = re.sub(r\"won\\'t\", \"will not\", phrase)\n",
        "  phrase = re.sub(r\"can\\'t\", \"can not\", phrase)\n",
        "  phrase = re.sub(r\"n\\'t\", \" not\", phrase)\n",
        "  phrase = re.sub(r\"\\'re\", \" are\", phrase)\n",
        "  phrase = re.sub(r\"\\'s\", \" is\", phrase)\n",
        "  phrase = re.sub(r\"\\'d\", \" would\", phrase)\n",
        "  phrase = re.sub(r\"\\'ll\", \" will\", phrase)\n",
        "  phrase = re.sub(r\"\\'t\", \" not\", phrase)\n",
        "  phrase = re.sub(r\"\\'ve\", \" have\", phrase)\n",
        "  phrase = re.sub(r\"\\'m\", \" am\", phrase)\n",
        "  data_without_contractions.append(phrase)"
      ]
    },
    {
      "cell_type": "code",
      "execution_count": 29,
      "metadata": {
        "id": "tOncpEGESFC-",
        "colab": {
          "base_uri": "https://localhost:8080/",
          "height": 104
        },
        "outputId": "e4b3026d-5fdc-4613-af24-a5890c35f7ac"
      },
      "outputs": [
        {
          "output_type": "execute_result",
          "data": {
            "text/plain": [
              "' Rex Wang  spews forth  Are people here stupid or what It is a tie breaker, of cause they have to have the same record How can people be sooooo stuppid to put win as first in the list for tie breaker If it is a tie breaker, how can there be different record Man, I thought people in this net are good with hockey I might not be great in Math, but tell me how can two teams ahve the same points with different record Manretard Ca not believe people actually put win as first in a tie breakerPLEASE PLEASE PLEASE tell me that you do not actually ATTEND Rensselaer, andthat you just work for ITS Or that this was toungeincheekDoes this mean that I should be cutting off my alumni contributions, or increasing themSG'"
            ],
            "application/vnd.google.colaboratory.intrinsic+json": {
              "type": "string"
            }
          },
          "metadata": {},
          "execution_count": 29
        }
      ],
      "source": [
        "data_without_contractions[1]"
      ]
    },
    {
      "cell_type": "markdown",
      "metadata": {
        "id": "iQ-NTZOLR8sk"
      },
      "source": [
        "Reference- https://stackoverflow.com/questions/19790188/expanding-english-language-contractions-in-python"
      ]
    },
    {
      "cell_type": "code",
      "execution_count": 30,
      "metadata": {
        "id": "NF9NruF7SqWz",
        "colab": {
          "base_uri": "https://localhost:8080/"
        },
        "outputId": "44f1c677-7e55-4f3c-bb58-51a6808fb75d"
      },
      "outputs": [
        {
          "output_type": "stream",
          "name": "stderr",
          "text": [
            "[nltk_data] Downloading package punkt to /root/nltk_data...\n",
            "[nltk_data]   Unzipping tokenizers/punkt.zip.\n",
            "[nltk_data] Downloading package maxent_ne_chunker to\n",
            "[nltk_data]     /root/nltk_data...\n",
            "[nltk_data]   Unzipping chunkers/maxent_ne_chunker.zip.\n",
            "[nltk_data] Downloading package words to /root/nltk_data...\n",
            "[nltk_data]   Unzipping corpora/words.zip.\n",
            "[nltk_data] Downloading package averaged_perceptron_tagger to\n",
            "[nltk_data]     /root/nltk_data...\n",
            "[nltk_data]   Unzipping taggers/averaged_perceptron_tagger.zip.\n"
          ]
        },
        {
          "output_type": "execute_result",
          "data": {
            "text/plain": [
              "True"
            ]
          },
          "metadata": {},
          "execution_count": 30
        }
      ],
      "source": [
        "import nltk\n",
        "nltk.download('punkt')\n",
        "nltk.download('maxent_ne_chunker')\n",
        "nltk.download('words')\n",
        "nltk.download('averaged_perceptron_tagger')"
      ]
    },
    {
      "cell_type": "markdown",
      "metadata": {
        "id": "4VLvckG5Wgxf"
      },
      "source": [
        "Reference - https://stackoverflow.com/questions/31836058/nltk-named-entity-recognition-to-a-python-list"
      ]
    },
    {
      "cell_type": "code",
      "execution_count": 31,
      "metadata": {
        "id": "FIPmsaAHTdTk"
      },
      "outputs": [],
      "source": [
        "from nltk import word_tokenize, pos_tag, ne_chunk\n",
        "from nltk import Tree\n",
        "\n",
        "def get_continuous_chunks(text, label):\n",
        "  chunked = ne_chunk(pos_tag(word_tokenize(text)))\n",
        "  prev = None\n",
        "  continuous_chunk = []\n",
        "  current_chunk = []\n",
        "  \n",
        "  for subtree in chunked:\n",
        "    if type(subtree) == Tree and subtree.label() == label:\n",
        "      current_chunk.append(\" \".join([token for token, pos in subtree.leaves()]))\n",
        "    if current_chunk:\n",
        "      named_entity = \" \".join(current_chunk)\n",
        "      if named_entity not in continuous_chunk:\n",
        "        continuous_chunk.append(named_entity)\n",
        "        current_chunk = []\n",
        "    else:\n",
        "      continue\n",
        "  return continuous_chunk"
      ]
    },
    {
      "cell_type": "code",
      "execution_count": 32,
      "metadata": {
        "id": "mnOd3XiHVrXq"
      },
      "outputs": [],
      "source": [
        "def get_continuousgpe_chunks(text, label):\n",
        "  chunked = ne_chunk(pos_tag(word_tokenize(text)))\n",
        "  prev = None\n",
        "  continuous_chunk = []\n",
        "  word=[]\n",
        "  continuos_word=[]\n",
        "  current_chunk = []\n",
        "  i=0\n",
        "  for subtree in chunked:\n",
        "    if type(subtree) == Tree and subtree.label() == label:\n",
        "      i+=1\n",
        "      current_chunk.append(\"_\".join([token for token, pos in subtree.leaves()]))\n",
        "      word.append(\" \".join([token for token, pos in subtree.leaves()]))\n",
        "    if current_chunk:\n",
        "      named_entity = \" \".join(current_chunk)\n",
        "      named_word=\" \".join(word)\n",
        "      if named_entity not in continuous_chunk:\n",
        "        continuous_chunk.append(named_entity)\n",
        "        current_chunk = []\n",
        "      if named_word not in continuos_word:\n",
        "        continuos_word.append(named_word)\n",
        "        word=[]\n",
        "    else:\n",
        "      continue\n",
        "  return continuous_chunk,continuos_word\n"
      ]
    },
    {
      "cell_type": "code",
      "execution_count": null,
      "metadata": {
        "id": "BGGZAGqaXWjf"
      },
      "outputs": [],
      "source": [
        "data_after_chunking=[]\n",
        "\n",
        "for i in data_without_contractions:\n",
        "  p=get_continuous_chunks(i, \"PERSON\")\n",
        "  for j in p:\n",
        "    i=i.replace(str(j),'')\n",
        "  g,w=get_continuousgpe_chunks(i, \"GPE\")\n",
        "  for k in range(len(g)):\n",
        "    i=i.replace(w[k],g[k])\n",
        "  data_after_chunking.append(i)"
      ]
    },
    {
      "cell_type": "code",
      "execution_count": 32,
      "metadata": {
        "id": "Yei5DlX2YBnB",
        "colab": {
          "base_uri": "https://localhost:8080/"
        },
        "outputId": "ac7dacf0-7c88-4baf-8a1b-f55b442f181e"
      },
      "outputs": [
        {
          "output_type": "stream",
          "name": "stdout",
          "text": [
            " In article    () responded to article   sdpaorg  who wrote:[DD]  Problem 1[DD][DD] My father told me the following story During the famous wars between the [DD] Armenians and the Persians, prince  performed [DD] extraordinary heroic deeds Three times in a single month he attacked the [DD] Persian troops The first time, he struck down half of the Persian army [DD] The second time, pursuing the Persians, he slaughtered one fourth of the [DD] soldiers The third time, he destroyed one eleventh of the Persian army [DD] The Persians who were still alive, numbering two hundred eighty, fled to [DD] Nakhichevan And so, from this remainder, find how many Persian soldiers [DD] there were before the massacre[Koc]  a280  a  1760Good for you You win the prize  a free trip to Karabakh as an Azeri soldier Now, calculate the odds of you coming back after trying to depopulatethe area of Armenians[Koc]  Armenians strike, slaughter, destroy, and massacre After[Koc] all, they are not as innocent as the asala network  I did not notice any mention of  in Shirak, , or Trebizon in      this seventh century  These places were filled with Armenians as of  By the end of 1916, after the Turkish genocide of the Armenians, there      were no Armenians left in Shirak, , or Trebizon  only  and       In fact, there were no  left alive in Trebizon        Numbers do not lie in either case        \"How do we explain Turkish troops onSDPA Center for Regional Studies   the Armenian border, when we can not PO Box 382761                        even explain 1915\" , MA 02238                                Turkish_MP, March 1992 \n"
          ]
        }
      ],
      "source": [
        "print(data_after_chunking[1])"
      ]
    },
    {
      "cell_type": "code",
      "execution_count": 33,
      "metadata": {
        "id": "0SJpBdEDjVy2"
      },
      "outputs": [],
      "source": [
        "data_without_digit=[]\n",
        "for i in data_after_chunking:\n",
        "  digits=re.findall('[0-9]+',i)\n",
        "  for digit in digits:\n",
        "    i=i.replace(digit,\"\")\n",
        "  data_without_digit.append(i)\n"
      ]
    },
    {
      "cell_type": "code",
      "execution_count": 34,
      "metadata": {
        "id": "UFGUVWEzjinP",
        "colab": {
          "base_uri": "https://localhost:8080/"
        },
        "outputId": "862b0153-1a13-4208-a850-f94d530b2c27"
      },
      "outputs": [
        {
          "output_type": "stream",
          "name": "stdout",
          "text": [
            " In article    () responded to article   sdpaorg  who wrote:[DD]  Problem [DD][DD] My father told me the following story During the famous wars between the [DD] Armenians and the Persians, prince  performed [DD] extraordinary heroic deeds Three times in a single month he attacked the [DD] Persian troops The first time, he struck down half of the Persian army [DD] The second time, pursuing the Persians, he slaughtered one fourth of the [DD] soldiers The third time, he destroyed one eleventh of the Persian army [DD] The Persians who were still alive, numbering two hundred eighty, fled to [DD] Nakhichevan And so, from this remainder, find how many Persian soldiers [DD] there were before the massacre[Koc]  a  a  760Good for you You win the prize  a free trip to Karabakh as an Azeri soldier Now, calculate the odds of you coming back after trying to depopulatethe area of Armenians[Koc]  Armenians strike, slaughter, destroy, and massacre After[Koc] all, they are not as innocent as the asala network  I did not notice any mention of  in Shirak, , or Trebizon in      this seventh century  These places were filled with Armenians as of  By the end of 96, after the Turkish genocide of the Armenians, there      were no Armenians left in Shirak, , or Trebizon  only  and       In fact, there were no  left alive in Trebizon        Numbers do not lie in either case        \"How do we explain Turkish troops onSDPA Center for Regional Studies   the Armenian border, when we can not PO Box 38276                        even explain 95\" , MA                                 Turkish_MP, March 992 \n"
          ]
        }
      ],
      "source": [
        "print(data_without_digit[1])"
      ]
    },
    {
      "cell_type": "code",
      "execution_count": 35,
      "metadata": {
        "id": "F5PDtCWVjoBs"
      },
      "outputs": [],
      "source": [
        "data_without_underscore=[]\n",
        "for i in data_without_digit:\n",
        "  for word in i.split():\n",
        "    if word.startswith('_'):\n",
        "      i=i.replace(word[0],\"\")\n",
        "    if word.endswith(\"_\"):\n",
        "      i=i.replace(word[-1],\"\")\n",
        "  data_without_underscore.append(i)\n"
      ]
    },
    {
      "cell_type": "code",
      "execution_count": 36,
      "metadata": {
        "id": "vXFXTU17jxtf",
        "colab": {
          "base_uri": "https://localhost:8080/",
          "height": 139
        },
        "outputId": "609639ae-7a4f-4290-b898-3fc727032659"
      },
      "outputs": [
        {
          "output_type": "execute_result",
          "data": {
            "text/plain": [
              "' In article    () responded to article   sdpaorg  who wrote:[DD]  Problem [DD][DD] My father told me the following story During the famous wars between the [DD] Armenians and the Persians, prince  performed [DD] extraordinary heroic deeds Three times in a single month he attacked the [DD] Persian troops The first time, he struck down half of the Persian army [DD] The second time, pursuing the Persians, he slaughtered one fourth of the [DD] soldiers The third time, he destroyed one eleventh of the Persian army [DD] The Persians who were still alive, numbering two hundred eighty, fled to [DD] Nakhichevan And so, from this remainder, find how many Persian soldiers [DD] there were before the massacre[Koc]  a  a  760Good for you You win the prize  a free trip to Karabakh as an Azeri soldier Now, calculate the odds of you coming back after trying to depopulatethe area of Armenians[Koc]  Armenians strike, slaughter, destroy, and massacre After[Koc] all, they are not as innocent as the asala network  I did not notice any mention of  in Shirak, , or Trebizon in      this seventh century  These places were filled with Armenians as of  By the end of 96, after the Turkish genocide of the Armenians, there      were no Armenians left in Shirak, , or Trebizon  only  and       In fact, there were no  left alive in Trebizon        Numbers do not lie in either case        \"How do we explain Turkish troops onSDPA Center for Regional Studies   the Armenian border, when we can not PO Box 38276                        even explain 95\" , MA                                 Turkish_MP, March 992 '"
            ],
            "application/vnd.google.colaboratory.intrinsic+json": {
              "type": "string"
            }
          },
          "metadata": {},
          "execution_count": 36
        }
      ],
      "source": [
        "data_without_underscore[1]"
      ]
    },
    {
      "cell_type": "code",
      "execution_count": 37,
      "metadata": {
        "id": "wySww_cnj3Xs"
      },
      "outputs": [],
      "source": [
        "data_removing_underscore=[]\n",
        "for i in data_without_underscore:\n",
        "  for word in i.split():\n",
        "    k=word.split('_')\n",
        "    if(len(k)>1):\n",
        "      if(len(k[0])<=2):\n",
        "        i=i.replace(str(word),k[1])\n",
        "  data_removing_underscore.append(i)\n"
      ]
    },
    {
      "cell_type": "code",
      "execution_count": 38,
      "metadata": {
        "id": "AStxqGl-kOT7",
        "colab": {
          "base_uri": "https://localhost:8080/",
          "height": 139
        },
        "outputId": "4b7da87c-d3eb-41e5-bf43-7c384fbfec84"
      },
      "outputs": [
        {
          "output_type": "execute_result",
          "data": {
            "text/plain": [
              "' In article    () responded to article   sdpaorg  who wrote:[DD]  Problem [DD][DD] My father told me the following story During the famous wars between the [DD] Armenians and the Persians, prince  performed [DD] extraordinary heroic deeds Three times in a single month he attacked the [DD] Persian troops The first time, he struck down half of the Persian army [DD] The second time, pursuing the Persians, he slaughtered one fourth of the [DD] soldiers The third time, he destroyed one eleventh of the Persian army [DD] The Persians who were still alive, numbering two hundred eighty, fled to [DD] Nakhichevan And so, from this remainder, find how many Persian soldiers [DD] there were before the massacre[Koc]  a  a  760Good for you You win the prize  a free trip to Karabakh as an Azeri soldier Now, calculate the odds of you coming back after trying to depopulatethe area of Armenians[Koc]  Armenians strike, slaughter, destroy, and massacre After[Koc] all, they are not as innocent as the asala network  I did not notice any mention of  in Shirak, , or Trebizon in      this seventh century  These places were filled with Armenians as of  By the end of 96, after the Turkish genocide of the Armenians, there      were no Armenians left in Shirak, , or Trebizon  only  and       In fact, there were no  left alive in Trebizon        Numbers do not lie in either case        \"How do we explain Turkish troops onSDPA Center for Regional Studies   the Armenian border, when we can not PO Box 38276                        even explain 95\" , MA                                 Turkish_MP, March 992 '"
            ],
            "application/vnd.google.colaboratory.intrinsic+json": {
              "type": "string"
            }
          },
          "metadata": {},
          "execution_count": 38
        }
      ],
      "source": [
        "data_removing_underscore[1]"
      ]
    },
    {
      "cell_type": "code",
      "execution_count": 39,
      "metadata": {
        "id": "3yr6zLYnkan8"
      },
      "outputs": [],
      "source": [
        "#LowerCase\n",
        "data_after_lowercase=[]\n",
        "for i in data_removing_underscore:\n",
        "  j= ' '.join([w for w in i.split() if len(w)>2])\n",
        "  i_new=' '.join([w for w in j.split() if (len(w)<=15)])\n",
        "  data_after_lowercase.append(i_new.lower())\n"
      ]
    },
    {
      "cell_type": "code",
      "execution_count": 40,
      "metadata": {
        "id": "JtWvB_X2kf1T",
        "colab": {
          "base_uri": "https://localhost:8080/",
          "height": 139
        },
        "outputId": "6c25839f-b0bb-4770-a3aa-336c1f451faf"
      },
      "outputs": [
        {
          "output_type": "execute_result",
          "data": {
            "text/plain": [
              "'article responded article sdpaorg who wrote:[dd] problem [dd][dd] father told the following story during the famous wars between the [dd] armenians and the persians, prince performed [dd] extraordinary heroic deeds three times single month attacked the [dd] persian troops the first time, struck down half the persian army [dd] the second time, pursuing the persians, slaughtered one fourth the [dd] soldiers the third time, destroyed one eleventh the persian army [dd] the persians who were still alive, numbering two hundred eighty, fled [dd] nakhichevan and so, from this remainder, find how many persian soldiers [dd] there were before the massacre[koc] 760good for you you win the prize free trip karabakh azeri soldier now, calculate the odds you coming back after trying depopulatethe area armenians[koc] armenians strike, slaughter, destroy, and massacre after[koc] all, they are not innocent the asala network did not notice any mention shirak, trebizon this seventh century these places were filled with armenians the end 96, after the turkish genocide the armenians, there were armenians left shirak, trebizon only and fact, there were left alive trebizon numbers not lie either case \"how explain turkish troops onsdpa center for regional studies the armenian border, when can not box 38276 even explain 95\" turkish_mp, march 992'"
            ],
            "application/vnd.google.colaboratory.intrinsic+json": {
              "type": "string"
            }
          },
          "metadata": {},
          "execution_count": 40
        }
      ],
      "source": [
        "data_after_lowercase[1]"
      ]
    },
    {
      "cell_type": "code",
      "execution_count": 41,
      "metadata": {
        "id": "OnMDJ1RElB7J"
      },
      "outputs": [],
      "source": [
        "preprocessed_text=[]\n",
        "for i in data_after_lowercase:\n",
        "  i=re.sub(r'[^A-Za-z_ ]','',i)\n",
        "  preprocessed_text.append(i)\n"
      ]
    },
    {
      "cell_type": "code",
      "execution_count": 42,
      "metadata": {
        "id": "eSVXwlc8lNvy",
        "colab": {
          "base_uri": "https://localhost:8080/",
          "height": 139
        },
        "outputId": "0f053ff9-01cb-4370-9776-d0ffb2efa0a6"
      },
      "outputs": [
        {
          "output_type": "execute_result",
          "data": {
            "text/plain": [
              "'article responded article sdpaorg who wrotedd problem dddd father told the following story during the famous wars between the dd armenians and the persians prince performed dd extraordinary heroic deeds three times single month attacked the dd persian troops the first time struck down half the persian army dd the second time pursuing the persians slaughtered one fourth the dd soldiers the third time destroyed one eleventh the persian army dd the persians who were still alive numbering two hundred eighty fled dd nakhichevan and so from this remainder find how many persian soldiers dd there were before the massacrekoc good for you you win the prize free trip karabakh azeri soldier now calculate the odds you coming back after trying depopulatethe area armenianskoc armenians strike slaughter destroy and massacre afterkoc all they are not innocent the asala network did not notice any mention shirak trebizon this seventh century these places were filled with armenians the end  after the turkish genocide the armenians there were armenians left shirak trebizon only and fact there were left alive trebizon numbers not lie either case how explain turkish troops onsdpa center for regional studies the armenian border when can not box  even explain  turkish_mp march '"
            ],
            "application/vnd.google.colaboratory.intrinsic+json": {
              "type": "string"
            }
          },
          "metadata": {},
          "execution_count": 42
        }
      ],
      "source": [
        "preprocessed_text[1]"
      ]
    },
    {
      "cell_type": "code",
      "execution_count": 43,
      "metadata": {
        "id": "SPIpUzKvlZ0q",
        "colab": {
          "base_uri": "https://localhost:8080/"
        },
        "outputId": "760fa0b3-c2ea-41cb-e957-a286df71ebfb"
      },
      "outputs": [
        {
          "output_type": "execute_result",
          "data": {
            "text/plain": [
              "18828"
            ]
          },
          "metadata": {},
          "execution_count": 43
        }
      ],
      "source": [
        "len(preprocessed_text)"
      ]
    },
    {
      "cell_type": "code",
      "execution_count": 44,
      "metadata": {
        "id": "QOBmAIAOlfsR",
        "colab": {
          "base_uri": "https://localhost:8080/"
        },
        "outputId": "0d8bb31a-1d49-4604-b4b5-3273917d06fa"
      },
      "outputs": [
        {
          "output_type": "stream",
          "name": "stdout",
          "text": [
            "urartu sdpa org flop ENGR ORST EDU rize ECE ORST EDU urartu sdpa org urartu urartu sdpa org\n",
            "**************************************************\n",
            "Seventh Century AD Armenian Math Problems\n",
            "**************************************************\n",
            "article responded article sdpaorg who wrotedd problem dddd father told the following story during the famous wars between the dd armenians and the persians prince performed dd extraordinary heroic deeds three times single month attacked the dd persian troops the first time struck down half the persian army dd the second time pursuing the persians slaughtered one fourth the dd soldiers the third time destroyed one eleventh the persian army dd the persians who were still alive numbering two hundred eighty fled dd nakhichevan and so from this remainder find how many persian soldiers dd there were before the massacrekoc good for you you win the prize free trip karabakh azeri soldier now calculate the odds you coming back after trying depopulatethe area armenianskoc armenians strike slaughter destroy and massacre afterkoc all they are not innocent the asala network did not notice any mention shirak trebizon this seventh century these places were filled with armenians the end  after the turkish genocide the armenians there were armenians left shirak trebizon only and fact there were left alive trebizon numbers not lie either case how explain turkish troops onsdpa center for regional studies the armenian border when can not box  even explain  turkish_mp march \n"
          ]
        }
      ],
      "source": [
        "print(preprocessed_email[1])\n",
        "print(\"*\"*50)\n",
        "print(preprocessed_subject[1])\n",
        "print(\"*\"*50)\n",
        "print(preprocessed_text[1])\n"
      ]
    },
    {
      "cell_type": "code",
      "execution_count": 45,
      "metadata": {
        "id": "FwXyxKOAl1wx"
      },
      "outputs": [],
      "source": [
        "data=pd.DataFrame({\"text\":data[0],\"class\":labels,\"preprocessed_text\":preprocessed_text,\"preprocessed_subject\":preprocessed_subject,\"preprocessed_email\":preprocessed_email})\n"
      ]
    },
    {
      "cell_type": "code",
      "execution_count": 46,
      "metadata": {
        "id": "u8P84ORPl_S4",
        "colab": {
          "base_uri": "https://localhost:8080/",
          "height": 337
        },
        "outputId": "216681ac-5bfb-4d32-d962-60b8b8ab459e"
      },
      "outputs": [
        {
          "output_type": "execute_result",
          "data": {
            "text/plain": [
              "                                                text                  class  \\\n",
              "0  From: feustel@netcom.com (David Feustel)\\nSubj...              sci.crypt   \n",
              "1  From: feustel@netcom.com (David Feustel)\\nSubj...  talk.politics.mideast   \n",
              "2  From: feustel@netcom.com (David Feustel)\\nSubj...  comp.sys.mac.hardware   \n",
              "3  From: feustel@netcom.com (David Feustel)\\nSubj...  comp.sys.mac.hardware   \n",
              "4  From: feustel@netcom.com (David Feustel)\\nSubj...              sci.crypt   \n",
              "\n",
              "                                   preprocessed_text  \\\n",
              "0                    and the fox has rabies too nmyi   \n",
              "1  article responded article sdpaorg who wrotedd ...   \n",
              "2  fair number brave souls who upgraded their clo...   \n",
              "3  article writesa while ago when owned plus and ...   \n",
              "4  article writesso not just think replacements f...   \n",
              "\n",
              "                                preprocessed_subject  \\\n",
              "0                                The Escrow Database   \n",
              "1          Seventh Century AD Armenian Math Problems   \n",
              "2                          SI Clock Poll  Final Call   \n",
              "3                               Torx T15 Screwdriver   \n",
              "4  Would clipper make a good cover for other encr...   \n",
              "\n",
              "                                  preprocessed_email  \n",
              "0                                      netcom netcom  \n",
              "1  urartu sdpa org flop ENGR ORST EDU rize ECE OR...  \n",
              "2               carson washington edu washington edu  \n",
              "3  golum riv csu edu austin ibm austin ibm csu ed...  \n",
              "4                             netcom eff org eff org  "
            ],
            "text/html": [
              "\n",
              "  <div id=\"df-6d9bb892-14d6-4572-8ee3-bf2eecf7399d\">\n",
              "    <div class=\"colab-df-container\">\n",
              "      <div>\n",
              "<style scoped>\n",
              "    .dataframe tbody tr th:only-of-type {\n",
              "        vertical-align: middle;\n",
              "    }\n",
              "\n",
              "    .dataframe tbody tr th {\n",
              "        vertical-align: top;\n",
              "    }\n",
              "\n",
              "    .dataframe thead th {\n",
              "        text-align: right;\n",
              "    }\n",
              "</style>\n",
              "<table border=\"1\" class=\"dataframe\">\n",
              "  <thead>\n",
              "    <tr style=\"text-align: right;\">\n",
              "      <th></th>\n",
              "      <th>text</th>\n",
              "      <th>class</th>\n",
              "      <th>preprocessed_text</th>\n",
              "      <th>preprocessed_subject</th>\n",
              "      <th>preprocessed_email</th>\n",
              "    </tr>\n",
              "  </thead>\n",
              "  <tbody>\n",
              "    <tr>\n",
              "      <th>0</th>\n",
              "      <td>From: feustel@netcom.com (David Feustel)\\nSubj...</td>\n",
              "      <td>sci.crypt</td>\n",
              "      <td>and the fox has rabies too nmyi</td>\n",
              "      <td>The Escrow Database</td>\n",
              "      <td>netcom netcom</td>\n",
              "    </tr>\n",
              "    <tr>\n",
              "      <th>1</th>\n",
              "      <td>From: feustel@netcom.com (David Feustel)\\nSubj...</td>\n",
              "      <td>talk.politics.mideast</td>\n",
              "      <td>article responded article sdpaorg who wrotedd ...</td>\n",
              "      <td>Seventh Century AD Armenian Math Problems</td>\n",
              "      <td>urartu sdpa org flop ENGR ORST EDU rize ECE OR...</td>\n",
              "    </tr>\n",
              "    <tr>\n",
              "      <th>2</th>\n",
              "      <td>From: feustel@netcom.com (David Feustel)\\nSubj...</td>\n",
              "      <td>comp.sys.mac.hardware</td>\n",
              "      <td>fair number brave souls who upgraded their clo...</td>\n",
              "      <td>SI Clock Poll  Final Call</td>\n",
              "      <td>carson washington edu washington edu</td>\n",
              "    </tr>\n",
              "    <tr>\n",
              "      <th>3</th>\n",
              "      <td>From: feustel@netcom.com (David Feustel)\\nSubj...</td>\n",
              "      <td>comp.sys.mac.hardware</td>\n",
              "      <td>article writesa while ago when owned plus and ...</td>\n",
              "      <td>Torx T15 Screwdriver</td>\n",
              "      <td>golum riv csu edu austin ibm austin ibm csu ed...</td>\n",
              "    </tr>\n",
              "    <tr>\n",
              "      <th>4</th>\n",
              "      <td>From: feustel@netcom.com (David Feustel)\\nSubj...</td>\n",
              "      <td>sci.crypt</td>\n",
              "      <td>article writesso not just think replacements f...</td>\n",
              "      <td>Would clipper make a good cover for other encr...</td>\n",
              "      <td>netcom eff org eff org</td>\n",
              "    </tr>\n",
              "  </tbody>\n",
              "</table>\n",
              "</div>\n",
              "      <button class=\"colab-df-convert\" onclick=\"convertToInteractive('df-6d9bb892-14d6-4572-8ee3-bf2eecf7399d')\"\n",
              "              title=\"Convert this dataframe to an interactive table.\"\n",
              "              style=\"display:none;\">\n",
              "        \n",
              "  <svg xmlns=\"http://www.w3.org/2000/svg\" height=\"24px\"viewBox=\"0 0 24 24\"\n",
              "       width=\"24px\">\n",
              "    <path d=\"M0 0h24v24H0V0z\" fill=\"none\"/>\n",
              "    <path d=\"M18.56 5.44l.94 2.06.94-2.06 2.06-.94-2.06-.94-.94-2.06-.94 2.06-2.06.94zm-11 1L8.5 8.5l.94-2.06 2.06-.94-2.06-.94L8.5 2.5l-.94 2.06-2.06.94zm10 10l.94 2.06.94-2.06 2.06-.94-2.06-.94-.94-2.06-.94 2.06-2.06.94z\"/><path d=\"M17.41 7.96l-1.37-1.37c-.4-.4-.92-.59-1.43-.59-.52 0-1.04.2-1.43.59L10.3 9.45l-7.72 7.72c-.78.78-.78 2.05 0 2.83L4 21.41c.39.39.9.59 1.41.59.51 0 1.02-.2 1.41-.59l7.78-7.78 2.81-2.81c.8-.78.8-2.07 0-2.86zM5.41 20L4 18.59l7.72-7.72 1.47 1.35L5.41 20z\"/>\n",
              "  </svg>\n",
              "      </button>\n",
              "      \n",
              "  <style>\n",
              "    .colab-df-container {\n",
              "      display:flex;\n",
              "      flex-wrap:wrap;\n",
              "      gap: 12px;\n",
              "    }\n",
              "\n",
              "    .colab-df-convert {\n",
              "      background-color: #E8F0FE;\n",
              "      border: none;\n",
              "      border-radius: 50%;\n",
              "      cursor: pointer;\n",
              "      display: none;\n",
              "      fill: #1967D2;\n",
              "      height: 32px;\n",
              "      padding: 0 0 0 0;\n",
              "      width: 32px;\n",
              "    }\n",
              "\n",
              "    .colab-df-convert:hover {\n",
              "      background-color: #E2EBFA;\n",
              "      box-shadow: 0px 1px 2px rgba(60, 64, 67, 0.3), 0px 1px 3px 1px rgba(60, 64, 67, 0.15);\n",
              "      fill: #174EA6;\n",
              "    }\n",
              "\n",
              "    [theme=dark] .colab-df-convert {\n",
              "      background-color: #3B4455;\n",
              "      fill: #D2E3FC;\n",
              "    }\n",
              "\n",
              "    [theme=dark] .colab-df-convert:hover {\n",
              "      background-color: #434B5C;\n",
              "      box-shadow: 0px 1px 3px 1px rgba(0, 0, 0, 0.15);\n",
              "      filter: drop-shadow(0px 1px 2px rgba(0, 0, 0, 0.3));\n",
              "      fill: #FFFFFF;\n",
              "    }\n",
              "  </style>\n",
              "\n",
              "      <script>\n",
              "        const buttonEl =\n",
              "          document.querySelector('#df-6d9bb892-14d6-4572-8ee3-bf2eecf7399d button.colab-df-convert');\n",
              "        buttonEl.style.display =\n",
              "          google.colab.kernel.accessAllowed ? 'block' : 'none';\n",
              "\n",
              "        async function convertToInteractive(key) {\n",
              "          const element = document.querySelector('#df-6d9bb892-14d6-4572-8ee3-bf2eecf7399d');\n",
              "          const dataTable =\n",
              "            await google.colab.kernel.invokeFunction('convertToInteractive',\n",
              "                                                     [key], {});\n",
              "          if (!dataTable) return;\n",
              "\n",
              "          const docLinkHtml = 'Like what you see? Visit the ' +\n",
              "            '<a target=\"_blank\" href=https://colab.research.google.com/notebooks/data_table.ipynb>data table notebook</a>'\n",
              "            + ' to learn more about interactive tables.';\n",
              "          element.innerHTML = '';\n",
              "          dataTable['output_type'] = 'display_data';\n",
              "          await google.colab.output.renderOutput(dataTable, element);\n",
              "          const docLink = document.createElement('div');\n",
              "          docLink.innerHTML = docLinkHtml;\n",
              "          element.appendChild(docLink);\n",
              "        }\n",
              "      </script>\n",
              "    </div>\n",
              "  </div>\n",
              "  "
            ]
          },
          "metadata": {},
          "execution_count": 46
        }
      ],
      "source": [
        "data.head()"
      ]
    },
    {
      "cell_type": "code",
      "execution_count": 47,
      "metadata": {
        "id": "0I9QEmvYmH4x",
        "colab": {
          "base_uri": "https://localhost:8080/"
        },
        "outputId": "b7a7e7e8-5648-4ef7-fdf6-c4f47c83a15e"
      },
      "outputs": [
        {
          "output_type": "execute_result",
          "data": {
            "text/plain": [
              "text                    From: feustel@netcom.com (David Feustel)\\nSubj...\n",
              "class                                               talk.politics.mideast\n",
              "preprocessed_text       article responded article sdpaorg who wrotedd ...\n",
              "preprocessed_subject            Seventh Century AD Armenian Math Problems\n",
              "preprocessed_email      urartu sdpa org flop ENGR ORST EDU rize ECE OR...\n",
              "Name: 1, dtype: object"
            ]
          },
          "metadata": {},
          "execution_count": 47
        }
      ],
      "source": [
        "data.iloc[1]\n"
      ]
    },
    {
      "cell_type": "code",
      "execution_count": 48,
      "metadata": {
        "id": "lYH-lwcwmUcH"
      },
      "outputs": [],
      "source": [
        "data['preprocessed_data']=data['preprocessed_text']+\" \"+data['preprocessed_subject']+\" \"+data['preprocessed_email']\n"
      ]
    },
    {
      "cell_type": "code",
      "execution_count": 49,
      "metadata": {
        "id": "i4kfuaKwnLYU",
        "colab": {
          "base_uri": "https://localhost:8080/",
          "height": 337
        },
        "outputId": "e6d4f326-e117-4d5b-f563-a4e6e64ece7c"
      },
      "outputs": [
        {
          "output_type": "execute_result",
          "data": {
            "text/plain": [
              "                                                text                  class  \\\n",
              "0  From: feustel@netcom.com (David Feustel)\\nSubj...              sci.crypt   \n",
              "1  From: feustel@netcom.com (David Feustel)\\nSubj...  talk.politics.mideast   \n",
              "2  From: feustel@netcom.com (David Feustel)\\nSubj...  comp.sys.mac.hardware   \n",
              "3  From: feustel@netcom.com (David Feustel)\\nSubj...  comp.sys.mac.hardware   \n",
              "4  From: feustel@netcom.com (David Feustel)\\nSubj...              sci.crypt   \n",
              "\n",
              "                                   preprocessed_text  \\\n",
              "0                    and the fox has rabies too nmyi   \n",
              "1  article responded article sdpaorg who wrotedd ...   \n",
              "2  fair number brave souls who upgraded their clo...   \n",
              "3  article writesa while ago when owned plus and ...   \n",
              "4  article writesso not just think replacements f...   \n",
              "\n",
              "                                preprocessed_subject  \\\n",
              "0                                The Escrow Database   \n",
              "1          Seventh Century AD Armenian Math Problems   \n",
              "2                          SI Clock Poll  Final Call   \n",
              "3                               Torx T15 Screwdriver   \n",
              "4  Would clipper make a good cover for other encr...   \n",
              "\n",
              "                                  preprocessed_email  \\\n",
              "0                                      netcom netcom   \n",
              "1  urartu sdpa org flop ENGR ORST EDU rize ECE OR...   \n",
              "2               carson washington edu washington edu   \n",
              "3  golum riv csu edu austin ibm austin ibm csu ed...   \n",
              "4                             netcom eff org eff org   \n",
              "\n",
              "                                   preprocessed_data  \n",
              "0  and the fox has rabies too nmyi The Escrow Dat...  \n",
              "1  article responded article sdpaorg who wrotedd ...  \n",
              "2  fair number brave souls who upgraded their clo...  \n",
              "3  article writesa while ago when owned plus and ...  \n",
              "4  article writesso not just think replacements f...  "
            ],
            "text/html": [
              "\n",
              "  <div id=\"df-78f15152-52e4-4c19-851f-e255ade959fb\">\n",
              "    <div class=\"colab-df-container\">\n",
              "      <div>\n",
              "<style scoped>\n",
              "    .dataframe tbody tr th:only-of-type {\n",
              "        vertical-align: middle;\n",
              "    }\n",
              "\n",
              "    .dataframe tbody tr th {\n",
              "        vertical-align: top;\n",
              "    }\n",
              "\n",
              "    .dataframe thead th {\n",
              "        text-align: right;\n",
              "    }\n",
              "</style>\n",
              "<table border=\"1\" class=\"dataframe\">\n",
              "  <thead>\n",
              "    <tr style=\"text-align: right;\">\n",
              "      <th></th>\n",
              "      <th>text</th>\n",
              "      <th>class</th>\n",
              "      <th>preprocessed_text</th>\n",
              "      <th>preprocessed_subject</th>\n",
              "      <th>preprocessed_email</th>\n",
              "      <th>preprocessed_data</th>\n",
              "    </tr>\n",
              "  </thead>\n",
              "  <tbody>\n",
              "    <tr>\n",
              "      <th>0</th>\n",
              "      <td>From: feustel@netcom.com (David Feustel)\\nSubj...</td>\n",
              "      <td>sci.crypt</td>\n",
              "      <td>and the fox has rabies too nmyi</td>\n",
              "      <td>The Escrow Database</td>\n",
              "      <td>netcom netcom</td>\n",
              "      <td>and the fox has rabies too nmyi The Escrow Dat...</td>\n",
              "    </tr>\n",
              "    <tr>\n",
              "      <th>1</th>\n",
              "      <td>From: feustel@netcom.com (David Feustel)\\nSubj...</td>\n",
              "      <td>talk.politics.mideast</td>\n",
              "      <td>article responded article sdpaorg who wrotedd ...</td>\n",
              "      <td>Seventh Century AD Armenian Math Problems</td>\n",
              "      <td>urartu sdpa org flop ENGR ORST EDU rize ECE OR...</td>\n",
              "      <td>article responded article sdpaorg who wrotedd ...</td>\n",
              "    </tr>\n",
              "    <tr>\n",
              "      <th>2</th>\n",
              "      <td>From: feustel@netcom.com (David Feustel)\\nSubj...</td>\n",
              "      <td>comp.sys.mac.hardware</td>\n",
              "      <td>fair number brave souls who upgraded their clo...</td>\n",
              "      <td>SI Clock Poll  Final Call</td>\n",
              "      <td>carson washington edu washington edu</td>\n",
              "      <td>fair number brave souls who upgraded their clo...</td>\n",
              "    </tr>\n",
              "    <tr>\n",
              "      <th>3</th>\n",
              "      <td>From: feustel@netcom.com (David Feustel)\\nSubj...</td>\n",
              "      <td>comp.sys.mac.hardware</td>\n",
              "      <td>article writesa while ago when owned plus and ...</td>\n",
              "      <td>Torx T15 Screwdriver</td>\n",
              "      <td>golum riv csu edu austin ibm austin ibm csu ed...</td>\n",
              "      <td>article writesa while ago when owned plus and ...</td>\n",
              "    </tr>\n",
              "    <tr>\n",
              "      <th>4</th>\n",
              "      <td>From: feustel@netcom.com (David Feustel)\\nSubj...</td>\n",
              "      <td>sci.crypt</td>\n",
              "      <td>article writesso not just think replacements f...</td>\n",
              "      <td>Would clipper make a good cover for other encr...</td>\n",
              "      <td>netcom eff org eff org</td>\n",
              "      <td>article writesso not just think replacements f...</td>\n",
              "    </tr>\n",
              "  </tbody>\n",
              "</table>\n",
              "</div>\n",
              "      <button class=\"colab-df-convert\" onclick=\"convertToInteractive('df-78f15152-52e4-4c19-851f-e255ade959fb')\"\n",
              "              title=\"Convert this dataframe to an interactive table.\"\n",
              "              style=\"display:none;\">\n",
              "        \n",
              "  <svg xmlns=\"http://www.w3.org/2000/svg\" height=\"24px\"viewBox=\"0 0 24 24\"\n",
              "       width=\"24px\">\n",
              "    <path d=\"M0 0h24v24H0V0z\" fill=\"none\"/>\n",
              "    <path d=\"M18.56 5.44l.94 2.06.94-2.06 2.06-.94-2.06-.94-.94-2.06-.94 2.06-2.06.94zm-11 1L8.5 8.5l.94-2.06 2.06-.94-2.06-.94L8.5 2.5l-.94 2.06-2.06.94zm10 10l.94 2.06.94-2.06 2.06-.94-2.06-.94-.94-2.06-.94 2.06-2.06.94z\"/><path d=\"M17.41 7.96l-1.37-1.37c-.4-.4-.92-.59-1.43-.59-.52 0-1.04.2-1.43.59L10.3 9.45l-7.72 7.72c-.78.78-.78 2.05 0 2.83L4 21.41c.39.39.9.59 1.41.59.51 0 1.02-.2 1.41-.59l7.78-7.78 2.81-2.81c.8-.78.8-2.07 0-2.86zM5.41 20L4 18.59l7.72-7.72 1.47 1.35L5.41 20z\"/>\n",
              "  </svg>\n",
              "      </button>\n",
              "      \n",
              "  <style>\n",
              "    .colab-df-container {\n",
              "      display:flex;\n",
              "      flex-wrap:wrap;\n",
              "      gap: 12px;\n",
              "    }\n",
              "\n",
              "    .colab-df-convert {\n",
              "      background-color: #E8F0FE;\n",
              "      border: none;\n",
              "      border-radius: 50%;\n",
              "      cursor: pointer;\n",
              "      display: none;\n",
              "      fill: #1967D2;\n",
              "      height: 32px;\n",
              "      padding: 0 0 0 0;\n",
              "      width: 32px;\n",
              "    }\n",
              "\n",
              "    .colab-df-convert:hover {\n",
              "      background-color: #E2EBFA;\n",
              "      box-shadow: 0px 1px 2px rgba(60, 64, 67, 0.3), 0px 1px 3px 1px rgba(60, 64, 67, 0.15);\n",
              "      fill: #174EA6;\n",
              "    }\n",
              "\n",
              "    [theme=dark] .colab-df-convert {\n",
              "      background-color: #3B4455;\n",
              "      fill: #D2E3FC;\n",
              "    }\n",
              "\n",
              "    [theme=dark] .colab-df-convert:hover {\n",
              "      background-color: #434B5C;\n",
              "      box-shadow: 0px 1px 3px 1px rgba(0, 0, 0, 0.15);\n",
              "      filter: drop-shadow(0px 1px 2px rgba(0, 0, 0, 0.3));\n",
              "      fill: #FFFFFF;\n",
              "    }\n",
              "  </style>\n",
              "\n",
              "      <script>\n",
              "        const buttonEl =\n",
              "          document.querySelector('#df-78f15152-52e4-4c19-851f-e255ade959fb button.colab-df-convert');\n",
              "        buttonEl.style.display =\n",
              "          google.colab.kernel.accessAllowed ? 'block' : 'none';\n",
              "\n",
              "        async function convertToInteractive(key) {\n",
              "          const element = document.querySelector('#df-78f15152-52e4-4c19-851f-e255ade959fb');\n",
              "          const dataTable =\n",
              "            await google.colab.kernel.invokeFunction('convertToInteractive',\n",
              "                                                     [key], {});\n",
              "          if (!dataTable) return;\n",
              "\n",
              "          const docLinkHtml = 'Like what you see? Visit the ' +\n",
              "            '<a target=\"_blank\" href=https://colab.research.google.com/notebooks/data_table.ipynb>data table notebook</a>'\n",
              "            + ' to learn more about interactive tables.';\n",
              "          element.innerHTML = '';\n",
              "          dataTable['output_type'] = 'display_data';\n",
              "          await google.colab.output.renderOutput(dataTable, element);\n",
              "          const docLink = document.createElement('div');\n",
              "          docLink.innerHTML = docLinkHtml;\n",
              "          element.appendChild(docLink);\n",
              "        }\n",
              "      </script>\n",
              "    </div>\n",
              "  </div>\n",
              "  "
            ]
          },
          "metadata": {},
          "execution_count": 49
        }
      ],
      "source": [
        "data.head()\n"
      ]
    },
    {
      "cell_type": "code",
      "execution_count": 50,
      "metadata": {
        "id": "X7q-X5P0n9qF"
      },
      "outputs": [],
      "source": [
        "with open('data_cnn.pickle', 'wb') as handle:\n",
        "  pickle.dump(data, handle, protocol=pickle.HIGHEST_PROTOCOL)"
      ]
    },
    {
      "cell_type": "code",
      "execution_count": 51,
      "metadata": {
        "id": "xzdaHQAjoDfk"
      },
      "outputs": [],
      "source": [
        "with open('data_cnn.pickle', 'rb') as handle:\n",
        "  data = pickle.load(handle)"
      ]
    },
    {
      "cell_type": "code",
      "execution_count": 52,
      "metadata": {
        "id": "P9C8A5POoSru"
      },
      "outputs": [],
      "source": [
        "y=data['class']\n",
        "X=data.drop('class',axis=1)"
      ]
    },
    {
      "cell_type": "code",
      "execution_count": 53,
      "metadata": {
        "id": "xM5gDX158LBc",
        "colab": {
          "base_uri": "https://localhost:8080/",
          "height": 641
        },
        "outputId": "dac66a23-322c-4873-f7a9-8a030de0c6a3"
      },
      "outputs": [
        {
          "output_type": "execute_result",
          "data": {
            "text/plain": [
              "                                                    text  \\\n",
              "17487  From: feustel@netcom.com (David Feustel)\\nSubj...   \n",
              "15809  From: feustel@netcom.com (David Feustel)\\nSubj...   \n",
              "3540   From: feustel@netcom.com (David Feustel)\\nSubj...   \n",
              "1373   From: feustel@netcom.com (David Feustel)\\nSubj...   \n",
              "10244  From: feustel@netcom.com (David Feustel)\\nSubj...   \n",
              "...                                                  ...   \n",
              "7359   From: feustel@netcom.com (David Feustel)\\nSubj...   \n",
              "11540  From: feustel@netcom.com (David Feustel)\\nSubj...   \n",
              "17334  From: feustel@netcom.com (David Feustel)\\nSubj...   \n",
              "9596   From: feustel@netcom.com (David Feustel)\\nSubj...   \n",
              "17453  From: feustel@netcom.com (David Feustel)\\nSubj...   \n",
              "\n",
              "                                       preprocessed_text  \\\n",
              "17487  the waco quizwhat would you the following hypo...   \n",
              "15809  writesit was not was from behindtrottier was g...   \n",
              "3540   article the holocaust memorial costly and dang...   \n",
              "1373   article writes the selective service registrat...   \n",
              "10244  writesyou all mention that the algorithm class...   \n",
              "...                                                  ...   \n",
              "7359   article great interview with cnn larry king li...   \n",
              "11540  pity you did not say something about the use s...   \n",
              "17334  article article brings around asking open ques...   \n",
              "9596   was just wondering one thing actually two hope...   \n",
              "17453  article according cnn poll key reason for low ...   \n",
              "\n",
              "                                    preprocessed_subject  \\\n",
              "17487  Take the WACO QUIZ  Impress your friends  Win ...   \n",
              "15809                                    Plus minus stat   \n",
              "3540   The US Holocaust Memorial Museum A Costly and ...   \n",
              "1373                           ABOLISH SELECTIVE SERVICE   \n",
              "10244                   Clipper Chip Reverse Engineering   \n",
              "...                                                  ...   \n",
              "7359                   Binyamin Netanyahu on CNN tonight   \n",
              "11540                    New Study Out On Gay Percentage   \n",
              "17334                 Prophetic Warning to New York City   \n",
              "9596                       Lead Acid batteries  Concrete   \n",
              "17453  Polls was Top Ten Excuses for Slick Willies Re...   \n",
              "\n",
              "                                      preprocessed_email  \\\n",
              "17487                           chinet chi chinet chinet   \n",
              "15809  ramsey laurentian sms business uwo sms busines...   \n",
              "3540   scubed minerva harvard edu minerva harvard edu...   \n",
              "1373       bnr convex convex convex head-cfa harvard edu   \n",
              "10244                       plato boeing utdallas bitnet   \n",
              "...                                                  ...   \n",
              "7359                 world std world std cmu edu cmu edu   \n",
              "11540  uhura rochester edu news cso uiuc edu uxa cso ...   \n",
              "17334  socs uts edu athos rutgers edu spot Colorado E...   \n",
              "9596             rtsg mot astro ocis temple edu rtsg mot   \n",
              "17453  ab20 larc nasa gov emoryu1 emory edu emory edu...   \n",
              "\n",
              "                                       preprocessed_data  \n",
              "17487  the waco quizwhat would you the following hypo...  \n",
              "15809  writesit was not was from behindtrottier was g...  \n",
              "3540   article the holocaust memorial costly and dang...  \n",
              "1373   article writes the selective service registrat...  \n",
              "10244  writesyou all mention that the algorithm class...  \n",
              "...                                                  ...  \n",
              "7359   article great interview with cnn larry king li...  \n",
              "11540  pity you did not say something about the use s...  \n",
              "17334  article article brings around asking open ques...  \n",
              "9596   was just wondering one thing actually two hope...  \n",
              "17453  article according cnn poll key reason for low ...  \n",
              "\n",
              "[14121 rows x 5 columns]"
            ],
            "text/html": [
              "\n",
              "  <div id=\"df-562f95f7-e43b-4446-bcf4-9f69f6b56ca5\">\n",
              "    <div class=\"colab-df-container\">\n",
              "      <div>\n",
              "<style scoped>\n",
              "    .dataframe tbody tr th:only-of-type {\n",
              "        vertical-align: middle;\n",
              "    }\n",
              "\n",
              "    .dataframe tbody tr th {\n",
              "        vertical-align: top;\n",
              "    }\n",
              "\n",
              "    .dataframe thead th {\n",
              "        text-align: right;\n",
              "    }\n",
              "</style>\n",
              "<table border=\"1\" class=\"dataframe\">\n",
              "  <thead>\n",
              "    <tr style=\"text-align: right;\">\n",
              "      <th></th>\n",
              "      <th>text</th>\n",
              "      <th>preprocessed_text</th>\n",
              "      <th>preprocessed_subject</th>\n",
              "      <th>preprocessed_email</th>\n",
              "      <th>preprocessed_data</th>\n",
              "    </tr>\n",
              "  </thead>\n",
              "  <tbody>\n",
              "    <tr>\n",
              "      <th>17487</th>\n",
              "      <td>From: feustel@netcom.com (David Feustel)\\nSubj...</td>\n",
              "      <td>the waco quizwhat would you the following hypo...</td>\n",
              "      <td>Take the WACO QUIZ  Impress your friends  Win ...</td>\n",
              "      <td>chinet chi chinet chinet</td>\n",
              "      <td>the waco quizwhat would you the following hypo...</td>\n",
              "    </tr>\n",
              "    <tr>\n",
              "      <th>15809</th>\n",
              "      <td>From: feustel@netcom.com (David Feustel)\\nSubj...</td>\n",
              "      <td>writesit was not was from behindtrottier was g...</td>\n",
              "      <td>Plus minus stat</td>\n",
              "      <td>ramsey laurentian sms business uwo sms busines...</td>\n",
              "      <td>writesit was not was from behindtrottier was g...</td>\n",
              "    </tr>\n",
              "    <tr>\n",
              "      <th>3540</th>\n",
              "      <td>From: feustel@netcom.com (David Feustel)\\nSubj...</td>\n",
              "      <td>article the holocaust memorial costly and dang...</td>\n",
              "      <td>The US Holocaust Memorial Museum A Costly and ...</td>\n",
              "      <td>scubed minerva harvard edu minerva harvard edu...</td>\n",
              "      <td>article the holocaust memorial costly and dang...</td>\n",
              "    </tr>\n",
              "    <tr>\n",
              "      <th>1373</th>\n",
              "      <td>From: feustel@netcom.com (David Feustel)\\nSubj...</td>\n",
              "      <td>article writes the selective service registrat...</td>\n",
              "      <td>ABOLISH SELECTIVE SERVICE</td>\n",
              "      <td>bnr convex convex convex head-cfa harvard edu</td>\n",
              "      <td>article writes the selective service registrat...</td>\n",
              "    </tr>\n",
              "    <tr>\n",
              "      <th>10244</th>\n",
              "      <td>From: feustel@netcom.com (David Feustel)\\nSubj...</td>\n",
              "      <td>writesyou all mention that the algorithm class...</td>\n",
              "      <td>Clipper Chip Reverse Engineering</td>\n",
              "      <td>plato boeing utdallas bitnet</td>\n",
              "      <td>writesyou all mention that the algorithm class...</td>\n",
              "    </tr>\n",
              "    <tr>\n",
              "      <th>...</th>\n",
              "      <td>...</td>\n",
              "      <td>...</td>\n",
              "      <td>...</td>\n",
              "      <td>...</td>\n",
              "      <td>...</td>\n",
              "    </tr>\n",
              "    <tr>\n",
              "      <th>7359</th>\n",
              "      <td>From: feustel@netcom.com (David Feustel)\\nSubj...</td>\n",
              "      <td>article great interview with cnn larry king li...</td>\n",
              "      <td>Binyamin Netanyahu on CNN tonight</td>\n",
              "      <td>world std world std cmu edu cmu edu</td>\n",
              "      <td>article great interview with cnn larry king li...</td>\n",
              "    </tr>\n",
              "    <tr>\n",
              "      <th>11540</th>\n",
              "      <td>From: feustel@netcom.com (David Feustel)\\nSubj...</td>\n",
              "      <td>pity you did not say something about the use s...</td>\n",
              "      <td>New Study Out On Gay Percentage</td>\n",
              "      <td>uhura rochester edu news cso uiuc edu uxa cso ...</td>\n",
              "      <td>pity you did not say something about the use s...</td>\n",
              "    </tr>\n",
              "    <tr>\n",
              "      <th>17334</th>\n",
              "      <td>From: feustel@netcom.com (David Feustel)\\nSubj...</td>\n",
              "      <td>article article brings around asking open ques...</td>\n",
              "      <td>Prophetic Warning to New York City</td>\n",
              "      <td>socs uts edu athos rutgers edu spot Colorado E...</td>\n",
              "      <td>article article brings around asking open ques...</td>\n",
              "    </tr>\n",
              "    <tr>\n",
              "      <th>9596</th>\n",
              "      <td>From: feustel@netcom.com (David Feustel)\\nSubj...</td>\n",
              "      <td>was just wondering one thing actually two hope...</td>\n",
              "      <td>Lead Acid batteries  Concrete</td>\n",
              "      <td>rtsg mot astro ocis temple edu rtsg mot</td>\n",
              "      <td>was just wondering one thing actually two hope...</td>\n",
              "    </tr>\n",
              "    <tr>\n",
              "      <th>17453</th>\n",
              "      <td>From: feustel@netcom.com (David Feustel)\\nSubj...</td>\n",
              "      <td>article according cnn poll key reason for low ...</td>\n",
              "      <td>Polls was Top Ten Excuses for Slick Willies Re...</td>\n",
              "      <td>ab20 larc nasa gov emoryu1 emory edu emory edu...</td>\n",
              "      <td>article according cnn poll key reason for low ...</td>\n",
              "    </tr>\n",
              "  </tbody>\n",
              "</table>\n",
              "<p>14121 rows × 5 columns</p>\n",
              "</div>\n",
              "      <button class=\"colab-df-convert\" onclick=\"convertToInteractive('df-562f95f7-e43b-4446-bcf4-9f69f6b56ca5')\"\n",
              "              title=\"Convert this dataframe to an interactive table.\"\n",
              "              style=\"display:none;\">\n",
              "        \n",
              "  <svg xmlns=\"http://www.w3.org/2000/svg\" height=\"24px\"viewBox=\"0 0 24 24\"\n",
              "       width=\"24px\">\n",
              "    <path d=\"M0 0h24v24H0V0z\" fill=\"none\"/>\n",
              "    <path d=\"M18.56 5.44l.94 2.06.94-2.06 2.06-.94-2.06-.94-.94-2.06-.94 2.06-2.06.94zm-11 1L8.5 8.5l.94-2.06 2.06-.94-2.06-.94L8.5 2.5l-.94 2.06-2.06.94zm10 10l.94 2.06.94-2.06 2.06-.94-2.06-.94-.94-2.06-.94 2.06-2.06.94z\"/><path d=\"M17.41 7.96l-1.37-1.37c-.4-.4-.92-.59-1.43-.59-.52 0-1.04.2-1.43.59L10.3 9.45l-7.72 7.72c-.78.78-.78 2.05 0 2.83L4 21.41c.39.39.9.59 1.41.59.51 0 1.02-.2 1.41-.59l7.78-7.78 2.81-2.81c.8-.78.8-2.07 0-2.86zM5.41 20L4 18.59l7.72-7.72 1.47 1.35L5.41 20z\"/>\n",
              "  </svg>\n",
              "      </button>\n",
              "      \n",
              "  <style>\n",
              "    .colab-df-container {\n",
              "      display:flex;\n",
              "      flex-wrap:wrap;\n",
              "      gap: 12px;\n",
              "    }\n",
              "\n",
              "    .colab-df-convert {\n",
              "      background-color: #E8F0FE;\n",
              "      border: none;\n",
              "      border-radius: 50%;\n",
              "      cursor: pointer;\n",
              "      display: none;\n",
              "      fill: #1967D2;\n",
              "      height: 32px;\n",
              "      padding: 0 0 0 0;\n",
              "      width: 32px;\n",
              "    }\n",
              "\n",
              "    .colab-df-convert:hover {\n",
              "      background-color: #E2EBFA;\n",
              "      box-shadow: 0px 1px 2px rgba(60, 64, 67, 0.3), 0px 1px 3px 1px rgba(60, 64, 67, 0.15);\n",
              "      fill: #174EA6;\n",
              "    }\n",
              "\n",
              "    [theme=dark] .colab-df-convert {\n",
              "      background-color: #3B4455;\n",
              "      fill: #D2E3FC;\n",
              "    }\n",
              "\n",
              "    [theme=dark] .colab-df-convert:hover {\n",
              "      background-color: #434B5C;\n",
              "      box-shadow: 0px 1px 3px 1px rgba(0, 0, 0, 0.15);\n",
              "      filter: drop-shadow(0px 1px 2px rgba(0, 0, 0, 0.3));\n",
              "      fill: #FFFFFF;\n",
              "    }\n",
              "  </style>\n",
              "\n",
              "      <script>\n",
              "        const buttonEl =\n",
              "          document.querySelector('#df-562f95f7-e43b-4446-bcf4-9f69f6b56ca5 button.colab-df-convert');\n",
              "        buttonEl.style.display =\n",
              "          google.colab.kernel.accessAllowed ? 'block' : 'none';\n",
              "\n",
              "        async function convertToInteractive(key) {\n",
              "          const element = document.querySelector('#df-562f95f7-e43b-4446-bcf4-9f69f6b56ca5');\n",
              "          const dataTable =\n",
              "            await google.colab.kernel.invokeFunction('convertToInteractive',\n",
              "                                                     [key], {});\n",
              "          if (!dataTable) return;\n",
              "\n",
              "          const docLinkHtml = 'Like what you see? Visit the ' +\n",
              "            '<a target=\"_blank\" href=https://colab.research.google.com/notebooks/data_table.ipynb>data table notebook</a>'\n",
              "            + ' to learn more about interactive tables.';\n",
              "          element.innerHTML = '';\n",
              "          dataTable['output_type'] = 'display_data';\n",
              "          await google.colab.output.renderOutput(dataTable, element);\n",
              "          const docLink = document.createElement('div');\n",
              "          docLink.innerHTML = docLinkHtml;\n",
              "          element.appendChild(docLink);\n",
              "        }\n",
              "      </script>\n",
              "    </div>\n",
              "  </div>\n",
              "  "
            ]
          },
          "metadata": {},
          "execution_count": 53
        }
      ],
      "source": [
        "X_train,X_test,y_train,y_test= train_test_split(X,y,random_state=42,stratify=y,test_size=0.25)\n",
        "X_train"
      ]
    },
    {
      "cell_type": "code",
      "execution_count": 54,
      "metadata": {
        "id": "JJBJZMba8Y_F",
        "colab": {
          "base_uri": "https://localhost:8080/"
        },
        "outputId": "29fe2cbb-01e2-4e96-b495-57649f3598f6"
      },
      "outputs": [
        {
          "output_type": "stream",
          "name": "stdout",
          "text": [
            "(14121, 20)\n",
            "(4707, 20)\n"
          ]
        }
      ],
      "source": [
        "from sklearn.preprocessing import LabelEncoder\n",
        "import numpy as np\n",
        "\n",
        "label_encoder = LabelEncoder()\n",
        "vec = label_encoder.fit_transform(y_train)\n",
        "y_train_label = tf.keras.utils.to_categorical(vec, 20)\n",
        "print(y_train_label.shape)\n",
        "\n",
        "label_encoder_test = LabelEncoder()\n",
        "vec_test = label_encoder_test.fit_transform(y_test)\n",
        "y_test_label = tf.keras.utils.to_categorical(vec_test, 20)\n",
        "\n",
        "print(y_test_label.shape)"
      ]
    },
    {
      "cell_type": "code",
      "execution_count": 55,
      "metadata": {
        "id": "8cHHSOTFtDa7"
      },
      "outputs": [],
      "source": [
        "np.random.seed(101)\n",
        "t = Tokenizer(filters='!\"#$%&()*+,-/:;<=>?@[\\\\]^`{|}~\\t\\n', oov_token=\"<OOV>\")\n",
        "t.fit_on_texts(X_train['preprocessed_data'])\n",
        "\n",
        "#Sequencing\n",
        "sequencing_docs_train= t.texts_to_sequences(X_train['preprocessed_data'])\n",
        "sequencing_docs_test= t.texts_to_sequences(X_test['preprocessed_data'])\n"
      ]
    },
    {
      "cell_type": "code",
      "source": [
        "max_length_padding=[]\n",
        "for i in sequencing_docs_train:\n",
        "  max_length_padding.append(len(i))\n",
        "print(\"Maximum Padding size-\",max(max_length_padding))\n"
      ],
      "metadata": {
        "id": "I0Crk-jC5u27",
        "colab": {
          "base_uri": "https://localhost:8080/"
        },
        "outputId": "223683d2-cb64-412e-e32b-58a116988366"
      },
      "execution_count": 56,
      "outputs": [
        {
          "output_type": "stream",
          "name": "stdout",
          "text": [
            "Maximum Padding size- 8568\n"
          ]
        }
      ]
    },
    {
      "cell_type": "markdown",
      "source": [
        "Tried the padding size and its taking lot of time. So im going with 1000"
      ],
      "metadata": {
        "id": "Ybdj2FTh9LD9"
      }
    },
    {
      "cell_type": "code",
      "source": [
        "padded_docs_train = pad_sequences(sequencing_docs_train, maxlen=1000, padding='post')\n",
        "padded_docs_test = pad_sequences(sequencing_docs_test, maxlen=1000, padding='post')"
      ],
      "metadata": {
        "id": "YV09pOf69P6T"
      },
      "execution_count": 57,
      "outputs": []
    },
    {
      "cell_type": "code",
      "source": [
        "logdir = os.path.join(\"logs\", datetime.datetime.now().strftime(\"%Y%m%d-%H%M%S\"))\n",
        "tensorboard_callback = TensorBoard(log_dir=logdir, histogram_freq=1)"
      ],
      "metadata": {
        "id": "0SqZ4rAp9cT-"
      },
      "execution_count": 58,
      "outputs": []
    },
    {
      "cell_type": "code",
      "source": [
        "from google.colab import files\n",
        "uploaded = files.upload()"
      ],
      "metadata": {
        "id": "P0a3i_cSPOSf",
        "colab": {
          "resources": {
            "http://localhost:8080/nbextensions/google.colab/files.js": {
              "data": "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",
              "ok": true,
              "headers": [
                [
                  "content-type",
                  "application/javascript"
                ]
              ],
              "status": 200,
              "status_text": ""
            }
          },
          "base_uri": "https://localhost:8080/",
          "height": 73
        },
        "outputId": "32ddb9dc-0926-4025-e62f-0cd7bb71b678"
      },
      "execution_count": 60,
      "outputs": [
        {
          "output_type": "display_data",
          "data": {
            "text/plain": [
              "<IPython.core.display.HTML object>"
            ],
            "text/html": [
              "\n",
              "     <input type=\"file\" id=\"files-8de9eee5-7141-4758-ae50-f8a547a9bef9\" name=\"files[]\" multiple disabled\n",
              "        style=\"border:none\" />\n",
              "     <output id=\"result-8de9eee5-7141-4758-ae50-f8a547a9bef9\">\n",
              "      Upload widget is only available when the cell has been executed in the\n",
              "      current browser session. Please rerun this cell to enable.\n",
              "      </output>\n",
              "      <script src=\"/nbextensions/google.colab/files.js\"></script> "
            ]
          },
          "metadata": {}
        },
        {
          "output_type": "stream",
          "name": "stdout",
          "text": [
            "Saving glove.6B.100d.txt to glove.6B.100d.txt\n"
          ]
        }
      ]
    },
    {
      "cell_type": "code",
      "source": [
        "import io\n",
        "embeddings_index = {}\n",
        "f = open('glove.6B.100d.txt')\n",
        "\n",
        "for line in f:\n",
        "  values = line.split()\n",
        "  word = values[0]\n",
        "  coefs = np.asarray(values[1:], dtype='float32')\n",
        "  embeddings_index[word] = coefs\n",
        "f.close()\n",
        "print('Found %s word vectors.' % len(embeddings_index))"
      ],
      "metadata": {
        "id": "r8ReNoODK2Vh",
        "colab": {
          "base_uri": "https://localhost:8080/"
        },
        "outputId": "9d946722-3de6-46af-ac39-87dc1f52c7b1"
      },
      "execution_count": 61,
      "outputs": [
        {
          "output_type": "stream",
          "name": "stdout",
          "text": [
            "Found 400000 word vectors.\n"
          ]
        }
      ]
    },
    {
      "cell_type": "code",
      "source": [
        "embedding_matrix = np.zeros((len(t.word_index) + 1, 100))\n",
        "for word, i in t.word_index.items():\n",
        "  embedding_vector = embeddings_index.get(word)\n",
        "  if embedding_vector is not None:\n",
        "    # words not found in embedding index will be all-zeros.\n",
        "    embedding_matrix[i] = embedding_vector\n"
      ],
      "metadata": {
        "id": "CphXuCIYrBhV"
      },
      "execution_count": 62,
      "outputs": []
    },
    {
      "cell_type": "code",
      "source": [
        "vocab_size=len(t.word_index) + 1\n",
        "vocab_size\n"
      ],
      "metadata": {
        "id": "hhap_-mtrRCl",
        "colab": {
          "base_uri": "https://localhost:8080/"
        },
        "outputId": "b44014c1-5a66-4524-ff89-67295f9166ba"
      },
      "execution_count": 63,
      "outputs": [
        {
          "output_type": "execute_result",
          "data": {
            "text/plain": [
              "176372"
            ]
          },
          "metadata": {},
          "execution_count": 63
        }
      ]
    },
    {
      "cell_type": "code",
      "source": [
        "class F1score(tf.keras.callbacks.Callback):\n",
        "  def __init__(self,x_test,y_test):\n",
        "    super(F1score,self).__init__()\n",
        "    self.x_test=x_test\n",
        "    self.y_test=y_test\n",
        "    self.history={'auc': [],'F1_score':[]}\n",
        "\n",
        "  def on_epoch_end(self, epoch, logs={}):\n",
        "    f1=0\n",
        "    y_pred=self.model.predict(self.x_test)\n",
        "    metrix1=[]\n",
        "    for val in y_pred:\n",
        "      y_val=np.argmax(val)\n",
        "      arr=np.zeros(20,dtype=int)\n",
        "      arr[y_val]=1\n",
        "      metrix1.append(arr)\n",
        "    f1=f1_score(self.y_test,np.array(metrix1),average='micro')\n",
        "    print(\"The F1 score for this epoch is: \",f1)\n"
      ],
      "metadata": {
        "id": "RmPpsf4NrWo0"
      },
      "execution_count": 64,
      "outputs": []
    },
    {
      "cell_type": "code",
      "source": [
        "from tensorflow.keras.layers import Input\n",
        "from numpy.random import seed"
      ],
      "metadata": {
        "id": "H2Om_Ph9r7zV"
      },
      "execution_count": 65,
      "outputs": []
    },
    {
      "cell_type": "code",
      "source": [
        "seed(1)\n",
        "tf.random.set_seed(2)\n",
        "tf.keras.backend.clear_session()\n",
        "\n",
        "input = Input(shape=(1000,),dtype='int32')\n",
        "e = Embedding(vocab_size, 100, weights=[embedding_matrix], input_length=1000, trainable=True)(input)\n",
        "\n",
        "x1=Conv1D(3,7,kernel_initializer='glorot_uniform',activation='relu')(e)\n",
        "x2=Conv1D(3,8,kernel_initializer='glorot_uniform',activation='relu')(e)\n",
        "x3=Conv1D(3,6,kernel_initializer='glorot_uniform',activation='relu')(e)\n",
        "\n",
        "concatted1= concatenate([x1,x2,x3],axis=1)\n",
        "\n",
        "max_pool1=MaxPooling1D(3)(concatted1)\n",
        "\n",
        "y1=Conv1D(3,9,kernel_initializer='glorot_uniform',activation='relu')(max_pool1)\n",
        "y2=Conv1D(3,4,kernel_initializer='glorot_uniform',activation='relu')(max_pool1)\n",
        "y3=Conv1D(3,5,kernel_initializer='glorot_uniform',activation='relu')(max_pool1)\n",
        "\n",
        "concatted2 =concatenate([y1,y2,y3],axis=1)\n",
        "\n",
        "max_pool2=MaxPooling1D(3)(concatted2)\n",
        "drop_out=Dropout(0.5)(max_pool2)\n",
        "max_pool3=MaxPooling1D(3)(drop_out)\n",
        "\n",
        "conv_layer1=Conv1D(3,12, activation='relu')(max_pool3)\n",
        "\n",
        "flatten=Flatten()(conv_layer1)\n",
        "drop_out2=Dropout(0.5)(flatten)\n",
        "dense_layer1=Dense(100, activation='relu')(drop_out2)\n",
        "\n",
        "output_layer=Dense(20, activation='softmax')(dense_layer1)\n",
        "\n",
        "optimizer1 = tf.keras.optimizers.SGD(learning_rate=0.01, momentum=0.9)\n",
        "\n",
        "earlystop = EarlyStopping(monitor='accuracy', min_delta=0.00, patience=2, verbose=1)\n",
        "\n",
        "f1score=F1score(x_test=padded_docs_test,y_test=y_test_label)\n",
        "\n",
        "model = Model(inputs=input,outputs=output_layer)\n",
        "\n",
        "callback_list = [tensorboard_callback,earlystop,f1score]\n",
        "\n",
        "history=model.compile(optimizer=optimizer1, loss='categorical_crossentropy', metrics=['accuracy'])\n",
        "\n",
        "print(model.summary())"
      ],
      "metadata": {
        "id": "cAUR5Zywr850",
        "colab": {
          "base_uri": "https://localhost:8080/"
        },
        "outputId": "8b166f00-c59e-4289-bffe-8aab1741959c"
      },
      "execution_count": 66,
      "outputs": [
        {
          "output_type": "stream",
          "name": "stdout",
          "text": [
            "Model: \"model\"\n",
            "__________________________________________________________________________________________________\n",
            " Layer (type)                   Output Shape         Param #     Connected to                     \n",
            "==================================================================================================\n",
            " input_1 (InputLayer)           [(None, 1000)]       0           []                               \n",
            "                                                                                                  \n",
            " embedding (Embedding)          (None, 1000, 100)    17637200    ['input_1[0][0]']                \n",
            "                                                                                                  \n",
            " conv1d (Conv1D)                (None, 994, 3)       2103        ['embedding[0][0]']              \n",
            "                                                                                                  \n",
            " conv1d_1 (Conv1D)              (None, 993, 3)       2403        ['embedding[0][0]']              \n",
            "                                                                                                  \n",
            " conv1d_2 (Conv1D)              (None, 995, 3)       1803        ['embedding[0][0]']              \n",
            "                                                                                                  \n",
            " concatenate (Concatenate)      (None, 2982, 3)      0           ['conv1d[0][0]',                 \n",
            "                                                                  'conv1d_1[0][0]',               \n",
            "                                                                  'conv1d_2[0][0]']               \n",
            "                                                                                                  \n",
            " max_pooling1d (MaxPooling1D)   (None, 994, 3)       0           ['concatenate[0][0]']            \n",
            "                                                                                                  \n",
            " conv1d_3 (Conv1D)              (None, 986, 3)       84          ['max_pooling1d[0][0]']          \n",
            "                                                                                                  \n",
            " conv1d_4 (Conv1D)              (None, 991, 3)       39          ['max_pooling1d[0][0]']          \n",
            "                                                                                                  \n",
            " conv1d_5 (Conv1D)              (None, 990, 3)       48          ['max_pooling1d[0][0]']          \n",
            "                                                                                                  \n",
            " concatenate_1 (Concatenate)    (None, 2967, 3)      0           ['conv1d_3[0][0]',               \n",
            "                                                                  'conv1d_4[0][0]',               \n",
            "                                                                  'conv1d_5[0][0]']               \n",
            "                                                                                                  \n",
            " max_pooling1d_1 (MaxPooling1D)  (None, 989, 3)      0           ['concatenate_1[0][0]']          \n",
            "                                                                                                  \n",
            " dropout (Dropout)              (None, 989, 3)       0           ['max_pooling1d_1[0][0]']        \n",
            "                                                                                                  \n",
            " max_pooling1d_2 (MaxPooling1D)  (None, 329, 3)      0           ['dropout[0][0]']                \n",
            "                                                                                                  \n",
            " conv1d_6 (Conv1D)              (None, 318, 3)       111         ['max_pooling1d_2[0][0]']        \n",
            "                                                                                                  \n",
            " flatten (Flatten)              (None, 954)          0           ['conv1d_6[0][0]']               \n",
            "                                                                                                  \n",
            " dropout_1 (Dropout)            (None, 954)          0           ['flatten[0][0]']                \n",
            "                                                                                                  \n",
            " dense (Dense)                  (None, 100)          95500       ['dropout_1[0][0]']              \n",
            "                                                                                                  \n",
            " dense_1 (Dense)                (None, 20)           2020        ['dense[0][0]']                  \n",
            "                                                                                                  \n",
            "==================================================================================================\n",
            "Total params: 17,741,311\n",
            "Trainable params: 17,741,311\n",
            "Non-trainable params: 0\n",
            "__________________________________________________________________________________________________\n",
            "None\n"
          ]
        }
      ]
    },
    {
      "cell_type": "code",
      "source": [
        "history=model.fit(padded_docs_train, y_train_label, epochs=20,validation_data=(padded_docs_test, y_test_label),verbose=1,callbacks=callback_list)\n",
        "\n",
        "print(history.history)\n"
      ],
      "metadata": {
        "id": "ZozgqIhsshuE",
        "colab": {
          "base_uri": "https://localhost:8080/"
        },
        "outputId": "8d5373ac-3d24-4efb-b977-5e4ad3fe27f8"
      },
      "execution_count": 67,
      "outputs": [
        {
          "output_type": "stream",
          "name": "stdout",
          "text": [
            "Epoch 1/20\n",
            "442/442 [==============================] - ETA: 0s - loss: 2.9019 - accuracy: 0.0814The F1 score for this epoch is:  0.10962396430847673\n",
            "442/442 [==============================] - 234s 525ms/step - loss: 2.9019 - accuracy: 0.0814 - val_loss: 2.7086 - val_accuracy: 0.1096\n",
            "Epoch 2/20\n",
            "442/442 [==============================] - ETA: 0s - loss: 2.2252 - accuracy: 0.2418The F1 score for this epoch is:  0.33397068196303376\n",
            "442/442 [==============================] - 224s 508ms/step - loss: 2.2252 - accuracy: 0.2418 - val_loss: 1.9075 - val_accuracy: 0.3340\n",
            "Epoch 3/20\n",
            "442/442 [==============================] - ETA: 0s - loss: 1.7471 - accuracy: 0.3860The F1 score for this epoch is:  0.4486934353091141\n",
            "442/442 [==============================] - 220s 498ms/step - loss: 1.7471 - accuracy: 0.3860 - val_loss: 1.5900 - val_accuracy: 0.4487\n",
            "Epoch 4/20\n",
            "442/442 [==============================] - ETA: 0s - loss: 1.5716 - accuracy: 0.4505The F1 score for this epoch is:  0.4580412152113873\n",
            "442/442 [==============================] - 225s 508ms/step - loss: 1.5716 - accuracy: 0.4505 - val_loss: 1.5839 - val_accuracy: 0.4580\n",
            "Epoch 5/20\n",
            "442/442 [==============================] - ETA: 0s - loss: 1.4648 - accuracy: 0.4851The F1 score for this epoch is:  0.5217760781814319\n",
            "442/442 [==============================] - 215s 488ms/step - loss: 1.4648 - accuracy: 0.4851 - val_loss: 1.3905 - val_accuracy: 0.5218\n",
            "Epoch 6/20\n",
            "442/442 [==============================] - ETA: 0s - loss: 1.3796 - accuracy: 0.5134The F1 score for this epoch is:  0.5258126195028681\n",
            "442/442 [==============================] - 226s 511ms/step - loss: 1.3796 - accuracy: 0.5134 - val_loss: 1.4009 - val_accuracy: 0.5258\n",
            "Epoch 7/20\n",
            "442/442 [==============================] - ETA: 0s - loss: 1.3126 - accuracy: 0.5361The F1 score for this epoch is:  0.5423836838750796\n",
            "442/442 [==============================] - 225s 509ms/step - loss: 1.3126 - accuracy: 0.5361 - val_loss: 1.2789 - val_accuracy: 0.5424\n",
            "Epoch 8/20\n",
            "442/442 [==============================] - ETA: 0s - loss: 1.2469 - accuracy: 0.5598The F1 score for this epoch is:  0.5581049500743573\n",
            "442/442 [==============================] - 226s 511ms/step - loss: 1.2469 - accuracy: 0.5598 - val_loss: 1.2314 - val_accuracy: 0.5581\n",
            "Epoch 9/20\n",
            "442/442 [==============================] - ETA: 0s - loss: 1.2087 - accuracy: 0.5688The F1 score for this epoch is:  0.555768005098789\n",
            "442/442 [==============================] - 223s 504ms/step - loss: 1.2087 - accuracy: 0.5688 - val_loss: 1.2845 - val_accuracy: 0.5558\n",
            "Epoch 10/20\n",
            "442/442 [==============================] - ETA: 0s - loss: 1.1415 - accuracy: 0.5934The F1 score for this epoch is:  0.5683025281495645\n",
            "442/442 [==============================] - 228s 517ms/step - loss: 1.1415 - accuracy: 0.5934 - val_loss: 1.2274 - val_accuracy: 0.5683\n",
            "Epoch 11/20\n",
            "442/442 [==============================] - ETA: 0s - loss: 1.1067 - accuracy: 0.6082The F1 score for this epoch is:  0.5683025281495645\n",
            "442/442 [==============================] - 237s 537ms/step - loss: 1.1067 - accuracy: 0.6082 - val_loss: 1.2082 - val_accuracy: 0.5683\n",
            "Epoch 12/20\n",
            "442/442 [==============================] - ETA: 0s - loss: 1.0746 - accuracy: 0.6183The F1 score for this epoch is:  0.5838113448056087\n",
            "442/442 [==============================] - 233s 528ms/step - loss: 1.0746 - accuracy: 0.6183 - val_loss: 1.1889 - val_accuracy: 0.5838\n",
            "Epoch 13/20\n",
            "442/442 [==============================] - ETA: 0s - loss: 1.0245 - accuracy: 0.6409The F1 score for this epoch is:  0.6235394093902699\n",
            "442/442 [==============================] - 236s 533ms/step - loss: 1.0245 - accuracy: 0.6409 - val_loss: 1.1151 - val_accuracy: 0.6235\n",
            "Epoch 14/20\n",
            "442/442 [==============================] - ETA: 0s - loss: 0.9866 - accuracy: 0.6485The F1 score for this epoch is:  0.6050562991289569\n",
            "442/442 [==============================] - 240s 543ms/step - loss: 0.9866 - accuracy: 0.6485 - val_loss: 1.1525 - val_accuracy: 0.6051\n",
            "Epoch 15/20\n",
            "442/442 [==============================] - ETA: 0s - loss: 0.9543 - accuracy: 0.6602The F1 score for this epoch is:  0.60951773953686\n",
            "442/442 [==============================] - 237s 537ms/step - loss: 0.9543 - accuracy: 0.6602 - val_loss: 1.1644 - val_accuracy: 0.6095\n",
            "Epoch 16/20\n",
            "442/442 [==============================] - ETA: 0s - loss: 0.9346 - accuracy: 0.6643The F1 score for this epoch is:  0.6360739324410453\n",
            "442/442 [==============================] - 242s 547ms/step - loss: 0.9346 - accuracy: 0.6643 - val_loss: 1.0868 - val_accuracy: 0.6361\n",
            "Epoch 17/20\n",
            "442/442 [==============================] - ETA: 0s - loss: 0.8898 - accuracy: 0.6856The F1 score for this epoch is:  0.6398980242192479\n",
            "442/442 [==============================] - 234s 530ms/step - loss: 0.8898 - accuracy: 0.6856 - val_loss: 1.0882 - val_accuracy: 0.6399\n",
            "Epoch 18/20\n",
            "442/442 [==============================] - ETA: 0s - loss: 0.8524 - accuracy: 0.6982The F1 score for this epoch is:  0.6396855746760145\n",
            "442/442 [==============================] - 244s 552ms/step - loss: 0.8524 - accuracy: 0.6982 - val_loss: 1.0825 - val_accuracy: 0.6397\n",
            "Epoch 19/20\n",
            "442/442 [==============================] - ETA: 0s - loss: 0.8343 - accuracy: 0.7055The F1 score for this epoch is:  0.6337369874654769\n",
            "442/442 [==============================] - 260s 589ms/step - loss: 0.8343 - accuracy: 0.7055 - val_loss: 1.0722 - val_accuracy: 0.6337\n",
            "Epoch 20/20\n",
            "442/442 [==============================] - ETA: 0s - loss: 0.8198 - accuracy: 0.7137The F1 score for this epoch is:  0.6449968132568515\n",
            "442/442 [==============================] - 254s 576ms/step - loss: 0.8198 - accuracy: 0.7137 - val_loss: 1.0726 - val_accuracy: 0.6450\n",
            "{'loss': [2.9019014835357666, 2.2251827716827393, 1.7471188306808472, 1.5715559720993042, 1.4648282527923584, 1.379635214805603, 1.3125725984573364, 1.2469230890274048, 1.2086647748947144, 1.1415153741836548, 1.106695532798767, 1.0745917558670044, 1.0244699716567993, 0.9866149425506592, 0.9542922377586365, 0.9345971345901489, 0.8897855281829834, 0.8524152040481567, 0.8343266844749451, 0.8198308944702148], 'accuracy': [0.08136817812919617, 0.24183839559555054, 0.38602080941200256, 0.4505346715450287, 0.4850931167602539, 0.5134197473526001, 0.5360810160636902, 0.5598045587539673, 0.5687982439994812, 0.593371570110321, 0.6082430481910706, 0.6182990074157715, 0.6408894658088684, 0.6485376358032227, 0.6601515412330627, 0.6642588973045349, 0.6856455206871033, 0.6981800198554993, 0.7054741382598877, 0.713688850402832], 'val_loss': [2.7086379528045654, 1.907536506652832, 1.5899624824523926, 1.5839462280273438, 1.3904963731765747, 1.4008615016937256, 1.2789229154586792, 1.231400728225708, 1.2845088243484497, 1.2274434566497803, 1.2082453966140747, 1.188917636871338, 1.1150991916656494, 1.152542233467102, 1.1643729209899902, 1.0867758989334106, 1.0881998538970947, 1.082458257675171, 1.0721988677978516, 1.0726478099822998], 'val_accuracy': [0.10962396115064621, 0.33397069573402405, 0.4486934244632721, 0.4580412209033966, 0.5217760801315308, 0.5258126258850098, 0.5423836708068848, 0.558104932308197, 0.5557680130004883, 0.5683025121688843, 0.5683025121688843, 0.583811342716217, 0.623539388179779, 0.6050562858581543, 0.6095177531242371, 0.6360739469528198, 0.6398980021476746, 0.6396855711936951, 0.6337369680404663, 0.6449968218803406]}\n"
          ]
        }
      ]
    },
    {
      "cell_type": "code",
      "source": [
        "model.save_weights('model1weights.h5')"
      ],
      "metadata": {
        "id": "u4aZLfi8sx2V"
      },
      "execution_count": 68,
      "outputs": []
    },
    {
      "cell_type": "code",
      "source": [
        "print(\"Accuracy->\",(history.history['accuracy'][-1])*100)"
      ],
      "metadata": {
        "id": "IUUvvMIHsyw8",
        "colab": {
          "base_uri": "https://localhost:8080/"
        },
        "outputId": "5a12609f-c3df-4bda-b7ce-7c33a743f5a2"
      },
      "execution_count": 69,
      "outputs": [
        {
          "output_type": "stream",
          "name": "stdout",
          "text": [
            "Accuracy-> 71.3688850402832\n"
          ]
        }
      ]
    },
    {
      "cell_type": "code",
      "source": [
        "tf.keras.utils.plot_model(model,to_file='model.png',show_shapes=False,show_layer_names=True,rankdir='TB',expand_nested=False,dpi=96)"
      ],
      "metadata": {
        "id": "CCJPe7cws1E0",
        "colab": {
          "base_uri": "https://localhost:8080/",
          "height": 1000
        },
        "outputId": "9cc68a4f-c057-45a3-e97f-1ab7a8e32966"
      },
      "execution_count": 70,
      "outputs": [
        {
          "output_type": "execute_result",
          "data": {
            "text/plain": [
              "<IPython.core.display.Image object>"
            ],
            "image/png": "[encoded data removed]"
          },
          "metadata": {},
          "execution_count": 70
        }
      ]
    },
    {
      "cell_type": "code",
      "source": [
        "np.random.seed(7)\n",
        "tc = Tokenizer(num_words=None, char_level=True, oov_token='UNK',filters='!\"#$%&()*+,-./:;<=>?@[\\\\]^_`{|}~\\t\\n')\n",
        "tc.fit_on_texts(X_train['preprocessed_data'])\n",
        "\n",
        "alphabet = \"abcdefghijklmnopqrstuvwxyz\"\n",
        "char_dict = {}\n",
        "for i, char in enumerate(alphabet):\n",
        "  char_dict[char] = i + 1\n",
        "\n",
        "tc.word_index = char_dict.copy()\n",
        "\n",
        "tc.word_index[tc.oov_token] = max(char_dict.values()) + 1\n"
      ],
      "metadata": {
        "id": "P2jdZ560txeu"
      },
      "execution_count": 73,
      "outputs": []
    },
    {
      "cell_type": "code",
      "source": [
        "sequencing_chardocs_train= tc.texts_to_sequences(X_train['preprocessed_data'])\n",
        "sequencing_chardocs_test= tc.texts_to_sequences(X_test['preprocessed_data'])\n"
      ],
      "metadata": {
        "id": "fAn3qWM8uNbO"
      },
      "execution_count": 74,
      "outputs": []
    },
    {
      "cell_type": "code",
      "source": [
        "len(sequencing_chardocs_test)\n"
      ],
      "metadata": {
        "id": "NMHscAcluPK-",
        "colab": {
          "base_uri": "https://localhost:8080/"
        },
        "outputId": "3c74b588-84c8-4c21-c6ff-2faf5911994b"
      },
      "execution_count": 75,
      "outputs": [
        {
          "output_type": "execute_result",
          "data": {
            "text/plain": [
              "4707"
            ]
          },
          "metadata": {},
          "execution_count": 75
        }
      ]
    },
    {
      "cell_type": "code",
      "source": [
        "max_length_padding=[]\n",
        "for i in sequencing_chardocs_train:\n",
        "  max_length_padding.append(len(i))\n",
        "print(\"Maximum Padding size-\",max(max_length_padding))\n"
      ],
      "metadata": {
        "id": "g6fvGKO7uRwz",
        "colab": {
          "base_uri": "https://localhost:8080/"
        },
        "outputId": "36f8c2bd-9b9c-4f2d-ecb1-0bc0cd532d95"
      },
      "execution_count": 76,
      "outputs": [
        {
          "output_type": "stream",
          "name": "stdout",
          "text": [
            "Maximum Padding size- 64612\n"
          ]
        }
      ]
    },
    {
      "cell_type": "code",
      "source": [
        "max_length=1010"
      ],
      "metadata": {
        "id": "0urR8prOuZ2b"
      },
      "execution_count": 77,
      "outputs": []
    },
    {
      "cell_type": "markdown",
      "source": [
        "As the padding size is high ill take 1010"
      ],
      "metadata": {
        "id": "43YpP3jaujt9"
      }
    },
    {
      "cell_type": "code",
      "source": [
        "padded_chardocs_train = pad_sequences(sequencing_chardocs_train, maxlen=max_length, padding='post')\n",
        "padded_chardocs_test = pad_sequences(sequencing_chardocs_test, maxlen=max_length, padding='post')\n",
        "\n",
        "log_dir = \"logs/fit/\" + datetime.datetime.now().strftime(\"%Y%m%d-%H%M%S\")\n",
        "tensorboard_callback = TensorBoard(log_dir=log_dir, histogram_freq=1)\n"
      ],
      "metadata": {
        "id": "27vm5YQlu6Ca"
      },
      "execution_count": 78,
      "outputs": []
    },
    {
      "cell_type": "code",
      "source": [
        "vocab_size=len(tc.word_index)+1\n",
        "vocab_size"
      ],
      "metadata": {
        "id": "Yhscwcj-vh6d",
        "colab": {
          "base_uri": "https://localhost:8080/"
        },
        "outputId": "f229c3e8-0d3c-454e-ef5a-107993150b19"
      },
      "execution_count": 79,
      "outputs": [
        {
          "output_type": "execute_result",
          "data": {
            "text/plain": [
              "28"
            ]
          },
          "metadata": {},
          "execution_count": 79
        }
      ]
    },
    {
      "cell_type": "code",
      "source": [
        "embedding_weights=[]\n",
        "embedding_weights.append(np.zeros(vocab_size))\n",
        "for char, i in tc.word_index.items():\n",
        "  onehot = np.zeros(vocab_size)\n",
        "  onehot[i - 1] = 1\n",
        "  embedding_weights.append(onehot)\n",
        "\n",
        "embedding_weights = np.array(embedding_weights)\n",
        "\n",
        "print(embedding_weights.shape)\n"
      ],
      "metadata": {
        "id": "LXVlzvScvq3y",
        "colab": {
          "base_uri": "https://localhost:8080/"
        },
        "outputId": "5d4a660e-c240-4bb3-89fb-8ee10ed0d82a"
      },
      "execution_count": 80,
      "outputs": [
        {
          "output_type": "stream",
          "name": "stdout",
          "text": [
            "(28, 28)\n"
          ]
        }
      ]
    },
    {
      "cell_type": "code",
      "source": [
        "from numpy.random import seed\n",
        "seed(1)\n",
        "tf.random.set_seed(2) \n",
        "tf.keras.backend.clear_session()\n",
        "\n",
        "inputs=Input(shape=(max_length,),dtype='int32')\n",
        "e = Embedding(vocab_size,28, weights=[embedding_weights], input_length=max_length, trainable=True)(inputs)\n",
        "\n",
        "x1=Conv1D(3,7,kernel_initializer='glorot_uniform',activation='relu')(e)\n",
        "x2=Conv1D(3,8,kernel_initializer='glorot_uniform',activation='relu')(x1)\n",
        "\n",
        "max_pool1=MaxPooling1D(3)(x2)\n",
        "\n",
        "y1=Conv1D(3,9,kernel_initializer='glorot_uniform',activation='relu')(max_pool1)\n",
        "y2=Conv1D(3,4,kernel_initializer='glorot_uniform',activation='relu')(y1)\n",
        "\n",
        "max_pool2=MaxPooling1D(3)(y2)\n",
        "flatten=Flatten()(max_pool2)\n",
        "drop_out1=Dropout(0.5)(flatten)\n",
        "dense_layer1=Dense(100, activation='relu')(drop_out1)\n",
        "\n",
        "output_layer=Dense(20, activation='softmax')(dense_layer1)\n",
        "\n",
        "optimizer1 = tf.keras.optimizers.SGD(learning_rate=0.01, momentum=0.9)\n",
        "\n",
        "earlystop = EarlyStopping(monitor='accuracy', min_delta=0.00, patience=2, verbose=1)\n",
        "f1score=F1score(x_test=padded_chardocs_test,y_test=y_test_label)\n",
        "\n",
        "model2 = Model(inputs=inputs,outputs=output_layer)\n",
        "\n",
        "callback_list = [tensorboard_callback,earlystop,f1score]\n",
        "\n",
        "model2.compile(optimizer=optimizer1, loss='categorical_crossentropy', metrics=['accuracy'])\n",
        "\n",
        "print(model2.summary())\n"
      ],
      "metadata": {
        "id": "c73XwTBjw-rV",
        "colab": {
          "base_uri": "https://localhost:8080/"
        },
        "outputId": "ef57f950-bb4b-4e91-a2a8-6da490cd347a"
      },
      "execution_count": 81,
      "outputs": [
        {
          "output_type": "stream",
          "name": "stdout",
          "text": [
            "Model: \"model\"\n",
            "_________________________________________________________________\n",
            " Layer (type)                Output Shape              Param #   \n",
            "=================================================================\n",
            " input_1 (InputLayer)        [(None, 1010)]            0         \n",
            "                                                                 \n",
            " embedding (Embedding)       (None, 1010, 28)          784       \n",
            "                                                                 \n",
            " conv1d (Conv1D)             (None, 1004, 3)           591       \n",
            "                                                                 \n",
            " conv1d_1 (Conv1D)           (None, 997, 3)            75        \n",
            "                                                                 \n",
            " max_pooling1d (MaxPooling1D  (None, 332, 3)           0         \n",
            " )                                                               \n",
            "                                                                 \n",
            " conv1d_2 (Conv1D)           (None, 324, 3)            84        \n",
            "                                                                 \n",
            " conv1d_3 (Conv1D)           (None, 321, 3)            39        \n",
            "                                                                 \n",
            " max_pooling1d_1 (MaxPooling  (None, 107, 3)           0         \n",
            " 1D)                                                             \n",
            "                                                                 \n",
            " flatten (Flatten)           (None, 321)               0         \n",
            "                                                                 \n",
            " dropout (Dropout)           (None, 321)               0         \n",
            "                                                                 \n",
            " dense (Dense)               (None, 100)               32200     \n",
            "                                                                 \n",
            " dense_1 (Dense)             (None, 20)                2020      \n",
            "                                                                 \n",
            "=================================================================\n",
            "Total params: 35,793\n",
            "Trainable params: 35,793\n",
            "Non-trainable params: 0\n",
            "_________________________________________________________________\n",
            "None\n"
          ]
        }
      ]
    },
    {
      "cell_type": "code",
      "source": [
        "history2=model2.fit(padded_chardocs_train, y_train_label, epochs=20,validation_data=(padded_chardocs_test, y_test_label),verbose=1,callbacks=callback_list)\n"
      ],
      "metadata": {
        "id": "TQOKbA-XxZz0",
        "colab": {
          "base_uri": "https://localhost:8080/"
        },
        "outputId": "eb1b2c5f-5971-45f7-b9e0-69862e80d8bf"
      },
      "execution_count": 82,
      "outputs": [
        {
          "output_type": "stream",
          "name": "stdout",
          "text": [
            "Epoch 1/20\n",
            "442/442 [==============================] - ETA: 0s - loss: 2.9804 - accuracy: 0.0582The F1 score for this epoch is:  0.08497981729339282\n",
            "442/442 [==============================] - 154s 347ms/step - loss: 2.9804 - accuracy: 0.0582 - val_loss: 2.9544 - val_accuracy: 0.0850\n",
            "Epoch 2/20\n",
            "442/442 [==============================] - ETA: 0s - loss: 2.9510 - accuracy: 0.0786The F1 score for this epoch is:  0.0805183768854897\n",
            "442/442 [==============================] - 118s 267ms/step - loss: 2.9510 - accuracy: 0.0786 - val_loss: 2.9387 - val_accuracy: 0.0805\n",
            "Epoch 3/20\n",
            "442/442 [==============================] - ETA: 0s - loss: 2.9403 - accuracy: 0.0850The F1 score for this epoch is:  0.08944125770129595\n",
            "442/442 [==============================] - 118s 266ms/step - loss: 2.9403 - accuracy: 0.0850 - val_loss: 2.9397 - val_accuracy: 0.0894\n",
            "Epoch 4/20\n",
            "442/442 [==============================] - ETA: 0s - loss: 2.9329 - accuracy: 0.0845The F1 score for this epoch is:  0.09432759719566602\n",
            "442/442 [==============================] - 116s 262ms/step - loss: 2.9329 - accuracy: 0.0845 - val_loss: 2.9197 - val_accuracy: 0.0943\n",
            "Epoch 5/20\n",
            "442/442 [==============================] - ETA: 0s - loss: 2.9172 - accuracy: 0.0952The F1 score for this epoch is:  0.10155088166560443\n",
            "442/442 [==============================] - 117s 264ms/step - loss: 2.9172 - accuracy: 0.0952 - val_loss: 2.8936 - val_accuracy: 0.1016\n",
            "Epoch 6/20\n",
            "442/442 [==============================] - ETA: 0s - loss: 2.8763 - accuracy: 0.1003The F1 score for this epoch is:  0.1030380284682388\n",
            "442/442 [==============================] - 119s 270ms/step - loss: 2.8763 - accuracy: 0.1003 - val_loss: 2.8622 - val_accuracy: 0.1030\n",
            "Epoch 7/20\n",
            "442/442 [==============================] - ETA: 0s - loss: 2.8133 - accuracy: 0.1071The F1 score for this epoch is:  0.11875929466751646\n",
            "442/442 [==============================] - 116s 263ms/step - loss: 2.8133 - accuracy: 0.1071 - val_loss: 2.7530 - val_accuracy: 0.1188\n",
            "Epoch 8/20\n",
            "442/442 [==============================] - ETA: 0s - loss: 2.7489 - accuracy: 0.1213The F1 score for this epoch is:  0.12343318461865307\n",
            "442/442 [==============================] - 115s 261ms/step - loss: 2.7489 - accuracy: 0.1213 - val_loss: 2.7028 - val_accuracy: 0.1234\n",
            "Epoch 9/20\n",
            "442/442 [==============================] - ETA: 0s - loss: 2.7101 - accuracy: 0.1261The F1 score for this epoch is:  0.12385808370512004\n",
            "442/442 [==============================] - 116s 263ms/step - loss: 2.7101 - accuracy: 0.1261 - val_loss: 2.6807 - val_accuracy: 0.1239\n",
            "Epoch 10/20\n",
            "442/442 [==============================] - ETA: 0s - loss: 2.6796 - accuracy: 0.1292The F1 score for this epoch is:  0.12725727639685575\n",
            "442/442 [==============================] - 113s 256ms/step - loss: 2.6796 - accuracy: 0.1292 - val_loss: 2.6744 - val_accuracy: 0.1273\n",
            "Epoch 11/20\n",
            "442/442 [==============================] - ETA: 0s - loss: 2.6491 - accuracy: 0.1392The F1 score for this epoch is:  0.12407053324835352\n",
            "442/442 [==============================] - 115s 261ms/step - loss: 2.6491 - accuracy: 0.1392 - val_loss: 2.6776 - val_accuracy: 0.1241\n",
            "Epoch 12/20\n",
            "442/442 [==============================] - ETA: 0s - loss: 2.6437 - accuracy: 0.1427The F1 score for this epoch is:  0.13235606543445932\n",
            "442/442 [==============================] - 115s 261ms/step - loss: 2.6437 - accuracy: 0.1427 - val_loss: 2.6539 - val_accuracy: 0.1324\n",
            "Epoch 13/20\n",
            "442/442 [==============================] - ETA: 0s - loss: 2.6160 - accuracy: 0.1477The F1 score for this epoch is:  0.13086891863182495\n",
            "442/442 [==============================] - 119s 270ms/step - loss: 2.6160 - accuracy: 0.1477 - val_loss: 2.6375 - val_accuracy: 0.1309\n",
            "Epoch 14/20\n",
            "442/442 [==============================] - ETA: 0s - loss: 2.6081 - accuracy: 0.1523The F1 score for this epoch is:  0.1385171021882303\n",
            "442/442 [==============================] - 119s 269ms/step - loss: 2.6081 - accuracy: 0.1523 - val_loss: 2.6124 - val_accuracy: 0.1385\n",
            "Epoch 15/20\n",
            "442/442 [==============================] - ETA: 0s - loss: 2.5845 - accuracy: 0.1545The F1 score for this epoch is:  0.13639260675589548\n",
            "442/442 [==============================] - 116s 263ms/step - loss: 2.5845 - accuracy: 0.1545 - val_loss: 2.6513 - val_accuracy: 0.1364\n",
            "Epoch 16/20\n",
            "442/442 [==============================] - ETA: 0s - loss: 2.5787 - accuracy: 0.1556The F1 score for this epoch is:  0.14574038665816869\n",
            "442/442 [==============================] - 116s 264ms/step - loss: 2.5787 - accuracy: 0.1556 - val_loss: 2.5793 - val_accuracy: 0.1457\n",
            "Epoch 17/20\n",
            "442/442 [==============================] - ETA: 0s - loss: 2.5632 - accuracy: 0.1616The F1 score for this epoch is:  0.14850223072020396\n",
            "442/442 [==============================] - 123s 279ms/step - loss: 2.5632 - accuracy: 0.1616 - val_loss: 2.5799 - val_accuracy: 0.1485\n",
            "Epoch 18/20\n",
            "442/442 [==============================] - ETA: 0s - loss: 2.5623 - accuracy: 0.1606The F1 score for this epoch is:  0.14659018483110262\n",
            "442/442 [==============================] - 118s 267ms/step - loss: 2.5623 - accuracy: 0.1606 - val_loss: 2.5977 - val_accuracy: 0.1466\n",
            "Epoch 19/20\n",
            "442/442 [==============================] - ETA: 0s - loss: 2.5517 - accuracy: 0.1605The F1 score for this epoch is:  0.14382834076906734\n",
            "442/442 [==============================] - 118s 268ms/step - loss: 2.5517 - accuracy: 0.1605 - val_loss: 2.5831 - val_accuracy: 0.1438\n",
            "Epoch 19: early stopping\n"
          ]
        }
      ]
    },
    {
      "cell_type": "code",
      "source": [
        "model2.save('model2weights.h5')\n"
      ],
      "metadata": {
        "id": "lBElcswoxgSx"
      },
      "execution_count": 90,
      "outputs": []
    },
    {
      "cell_type": "code",
      "source": [
        "print(\"Accuracy->\",(history2.history['accuracy'][-1])*100)\n"
      ],
      "metadata": {
        "id": "qaK3gokQxh6y",
        "colab": {
          "base_uri": "https://localhost:8080/"
        },
        "outputId": "6df59c29-7d49-4453-ecba-a140c50b69d8"
      },
      "execution_count": 91,
      "outputs": [
        {
          "output_type": "stream",
          "name": "stdout",
          "text": [
            "Accuracy-> 16.047021746635437\n"
          ]
        }
      ]
    },
    {
      "cell_type": "code",
      "source": [
        "tf.keras.utils.plot_model(model2,to_file='model.png',show_shapes=False,show_layer_names=True,rankdir='TB',expand_nested=False,dpi=96)\n"
      ],
      "metadata": {
        "id": "tQal9MbYxjXK",
        "colab": {
          "base_uri": "https://localhost:8080/",
          "height": 1000
        },
        "outputId": "98c5a4b9-ea9b-426a-b6fa-eb13ebd064fe"
      },
      "execution_count": 92,
      "outputs": [
        {
          "output_type": "execute_result",
          "data": {
            "text/plain": [
              "<IPython.core.display.Image object>"
            ],
            "image/png": "[encoded data removed]"
          },
          "metadata": {},
          "execution_count": 92
        }
      ]
    }
  ],
  "metadata": {
    "colab": {
      "collapsed_sections": [],
      "name": "Text Classification Assignment.ipynb",
      "provenance": []
    },
    "kernelspec": {
      "display_name": "Python 3",
      "language": "python",
      "name": "python3"
    },
    "language_info": {
      "codemirror_mode": {
        "name": "ipython",
        "version": 3
      },
      "file_extension": ".py",
      "mimetype": "text/x-python",
      "name": "python",
      "nbconvert_exporter": "python",
      "pygments_lexer": "ipython3",
      "version": "3.6.8"
    },
    "gpuClass": "standard"
  },
  "nbformat": 4,
  "nbformat_minor": 0
}